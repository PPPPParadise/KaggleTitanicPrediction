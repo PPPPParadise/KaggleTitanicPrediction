{
 "cells": [
  {
   "cell_type": "code",
   "execution_count": 57,
   "metadata": {},
   "outputs": [],
   "source": [
    "import pandas as pd\n",
    "import numpy as np\n",
    "from matplotlib import pyplot as plt\n",
    "from sklearn.linear_model import LogisticRegression\n",
    "from sklearn.svm import SVC, LinearSVC\n",
    "from sklearn.ensemble import RandomForestClassifier\n",
    "from sklearn.neighbors import KNeighborsClassifier\n",
    "from sklearn.naive_bayes import GaussianNB\n",
    "from sklearn.linear_model import Perceptron\n",
    "from sklearn.linear_model import SGDClassifier\n",
    "from sklearn.tree import DecisionTreeClassifier\n",
    "from sklearn.model_selection import GridSearchCV\n",
    "\n",
    "%matplotlib inline\n",
    "\n",
    "# feature engineering from: \n",
    "# ProcessCabin.py, processFare.py, ProcessName.py, fill_n_scale.py\n",
    "# data_processing.py, interaction.py\n",
    "\n",
    "data = pd.read_csv('dfdf.csv')\n",
    "test_data = data[data['Survived'].isnull()]\n",
    "train_data = data[data['Survived'].notnull()]\n",
    "X_train = train_data.drop('Survived',axis = 1)\n",
    "X_test = test_data.drop('Survived',axis = 1)\n",
    "y_train = train_data['Survived']"
   ]
  },
  {
   "cell_type": "code",
   "execution_count": 7,
   "metadata": {},
   "outputs": [
    {
     "name": "stdout",
     "output_type": "stream",
     "text": [
      "(418, 357)\n",
      "(891, 357)\n"
     ]
    }
   ],
   "source": [
    "print(X_test.shape)\n",
    "print(X_train.shape)"
   ]
  },
  {
   "cell_type": "markdown",
   "metadata": {},
   "source": [
    "# Firstly, try 300+ features from dfdf.csv\n",
    "\n",
    "We tried 3 different data sets to make a more comprehensive model tuning: \n",
    "\n",
    "- Dataset from dfdf.csv\n",
    "- Dataset from an easier method (no operations between each of the features)\n",
    "- Dataset from dfdf.csv but drop the Age and Age1 columns"
   ]
  },
  {
   "cell_type": "code",
   "execution_count": 8,
   "metadata": {},
   "outputs": [
    {
     "data": {
      "text/html": [
       "<div>\n",
       "<style>\n",
       "    .dataframe thead tr:only-child th {\n",
       "        text-align: right;\n",
       "    }\n",
       "\n",
       "    .dataframe thead th {\n",
       "        text-align: left;\n",
       "    }\n",
       "\n",
       "    .dataframe tbody tr th {\n",
       "        vertical-align: top;\n",
       "    }\n",
       "</style>\n",
       "<table border=\"1\" class=\"dataframe\">\n",
       "  <thead>\n",
       "    <tr style=\"text-align: right;\">\n",
       "      <th></th>\n",
       "      <th>Age</th>\n",
       "      <th>Fare_scaled</th>\n",
       "      <th>Fare_bin_id_scaled</th>\n",
       "      <th>SibSp_scaled</th>\n",
       "      <th>Parch_scaled</th>\n",
       "      <th>Embarked_scaled</th>\n",
       "      <th>CabinNumber_scaled</th>\n",
       "      <th>CabinLetter_scaled</th>\n",
       "      <th>Names_scaled</th>\n",
       "      <th>Title_id_scaled</th>\n",
       "      <th>...</th>\n",
       "      <th>Embarked_scaled-CabinNumber_scaled</th>\n",
       "      <th>Embarked_scaled/Pclass_scaled</th>\n",
       "      <th>Embarked_scaled-Pclass_scaled</th>\n",
       "      <th>Embarked_scaled/Title_id_scaled</th>\n",
       "      <th>Embarked_scaled-Title_id_scaled</th>\n",
       "      <th>Embarked_scaled/TicketNumber_scaled</th>\n",
       "      <th>Embarked_scaled-TicketNumber_scaled</th>\n",
       "      <th>Embarked_scaled/CabinLetter_scaled</th>\n",
       "      <th>Embarked_scaled-CabinLetter_scaled</th>\n",
       "      <th>Embarked_scaled*Embarked_scaled</th>\n",
       "    </tr>\n",
       "  </thead>\n",
       "  <tbody>\n",
       "    <tr>\n",
       "      <th>0</th>\n",
       "      <td>22.0</td>\n",
       "      <td>-0.503281</td>\n",
       "      <td>-1.323333</td>\n",
       "      <td>0.481288</td>\n",
       "      <td>-0.445</td>\n",
       "      <td>-0.603436</td>\n",
       "      <td>-0.420654</td>\n",
       "      <td>-0.438679</td>\n",
       "      <td>-0.449489</td>\n",
       "      <td>-0.737684</td>\n",
       "      <td>...</td>\n",
       "      <td>-0.182782</td>\n",
       "      <td>-0.716741</td>\n",
       "      <td>-1.445352</td>\n",
       "      <td>0.818013</td>\n",
       "      <td>0.134249</td>\n",
       "      <td>1.353909</td>\n",
       "      <td>-0.157737</td>\n",
       "      <td>1.375573</td>\n",
       "      <td>-0.164756</td>\n",
       "      <td>0.364135</td>\n",
       "    </tr>\n",
       "    <tr>\n",
       "      <th>1</th>\n",
       "      <td>38.0</td>\n",
       "      <td>0.734766</td>\n",
       "      <td>-0.434547</td>\n",
       "      <td>0.481288</td>\n",
       "      <td>-0.445</td>\n",
       "      <td>0.927373</td>\n",
       "      <td>2.843455</td>\n",
       "      <td>0.118827</td>\n",
       "      <td>2.200874</td>\n",
       "      <td>0.319959</td>\n",
       "      <td>...</td>\n",
       "      <td>-1.916082</td>\n",
       "      <td>-0.599815</td>\n",
       "      <td>2.473471</td>\n",
       "      <td>2.898408</td>\n",
       "      <td>0.607414</td>\n",
       "      <td>-2.256688</td>\n",
       "      <td>1.338317</td>\n",
       "      <td>7.804414</td>\n",
       "      <td>0.808546</td>\n",
       "      <td>0.860021</td>\n",
       "    </tr>\n",
       "    <tr>\n",
       "      <th>2</th>\n",
       "      <td>26.0</td>\n",
       "      <td>-0.490231</td>\n",
       "      <td>0.454238</td>\n",
       "      <td>-0.479087</td>\n",
       "      <td>-0.445</td>\n",
       "      <td>-0.603436</td>\n",
       "      <td>-0.420654</td>\n",
       "      <td>-0.438679</td>\n",
       "      <td>-0.449489</td>\n",
       "      <td>1.377603</td>\n",
       "      <td>...</td>\n",
       "      <td>-0.182782</td>\n",
       "      <td>-0.716741</td>\n",
       "      <td>-1.445352</td>\n",
       "      <td>-0.438033</td>\n",
       "      <td>-1.981039</td>\n",
       "      <td>1.353891</td>\n",
       "      <td>-0.157731</td>\n",
       "      <td>1.375573</td>\n",
       "      <td>-0.164756</td>\n",
       "      <td>0.364135</td>\n",
       "    </tr>\n",
       "    <tr>\n",
       "      <th>3</th>\n",
       "      <td>35.0</td>\n",
       "      <td>0.383203</td>\n",
       "      <td>-0.434547</td>\n",
       "      <td>0.481288</td>\n",
       "      <td>-0.445</td>\n",
       "      <td>-0.603436</td>\n",
       "      <td>4.302704</td>\n",
       "      <td>0.118827</td>\n",
       "      <td>2.200874</td>\n",
       "      <td>0.319959</td>\n",
       "      <td>...</td>\n",
       "      <td>-4.906139</td>\n",
       "      <td>0.390296</td>\n",
       "      <td>0.942662</td>\n",
       "      <td>-1.885975</td>\n",
       "      <td>-0.923395</td>\n",
       "      <td>2.731632</td>\n",
       "      <td>-0.382529</td>\n",
       "      <td>-5.078282</td>\n",
       "      <td>-0.722262</td>\n",
       "      <td>0.364135</td>\n",
       "    </tr>\n",
       "    <tr>\n",
       "      <th>4</th>\n",
       "      <td>35.0</td>\n",
       "      <td>-0.487814</td>\n",
       "      <td>0.454238</td>\n",
       "      <td>-0.479087</td>\n",
       "      <td>-0.445</td>\n",
       "      <td>-0.603436</td>\n",
       "      <td>-0.420654</td>\n",
       "      <td>-0.438679</td>\n",
       "      <td>-0.449489</td>\n",
       "      <td>-0.737684</td>\n",
       "      <td>...</td>\n",
       "      <td>-0.182782</td>\n",
       "      <td>-0.716741</td>\n",
       "      <td>-1.445352</td>\n",
       "      <td>0.818013</td>\n",
       "      <td>0.134249</td>\n",
       "      <td>-2.066631</td>\n",
       "      <td>-0.895426</td>\n",
       "      <td>1.375573</td>\n",
       "      <td>-0.164756</td>\n",
       "      <td>0.364135</td>\n",
       "    </tr>\n",
       "  </tbody>\n",
       "</table>\n",
       "<p>5 rows × 357 columns</p>\n",
       "</div>"
      ],
      "text/plain": [
       "    Age  Fare_scaled  Fare_bin_id_scaled  SibSp_scaled  Parch_scaled  \\\n",
       "0  22.0    -0.503281           -1.323333      0.481288        -0.445   \n",
       "1  38.0     0.734766           -0.434547      0.481288        -0.445   \n",
       "2  26.0    -0.490231            0.454238     -0.479087        -0.445   \n",
       "3  35.0     0.383203           -0.434547      0.481288        -0.445   \n",
       "4  35.0    -0.487814            0.454238     -0.479087        -0.445   \n",
       "\n",
       "   Embarked_scaled  CabinNumber_scaled  CabinLetter_scaled  Names_scaled  \\\n",
       "0        -0.603436           -0.420654           -0.438679     -0.449489   \n",
       "1         0.927373            2.843455            0.118827      2.200874   \n",
       "2        -0.603436           -0.420654           -0.438679     -0.449489   \n",
       "3        -0.603436            4.302704            0.118827      2.200874   \n",
       "4        -0.603436           -0.420654           -0.438679     -0.449489   \n",
       "\n",
       "   Title_id_scaled               ...                 \\\n",
       "0        -0.737684               ...                  \n",
       "1         0.319959               ...                  \n",
       "2         1.377603               ...                  \n",
       "3         0.319959               ...                  \n",
       "4        -0.737684               ...                  \n",
       "\n",
       "   Embarked_scaled-CabinNumber_scaled  Embarked_scaled/Pclass_scaled  \\\n",
       "0                           -0.182782                      -0.716741   \n",
       "1                           -1.916082                      -0.599815   \n",
       "2                           -0.182782                      -0.716741   \n",
       "3                           -4.906139                       0.390296   \n",
       "4                           -0.182782                      -0.716741   \n",
       "\n",
       "   Embarked_scaled-Pclass_scaled  Embarked_scaled/Title_id_scaled  \\\n",
       "0                      -1.445352                         0.818013   \n",
       "1                       2.473471                         2.898408   \n",
       "2                      -1.445352                        -0.438033   \n",
       "3                       0.942662                        -1.885975   \n",
       "4                      -1.445352                         0.818013   \n",
       "\n",
       "   Embarked_scaled-Title_id_scaled  Embarked_scaled/TicketNumber_scaled  \\\n",
       "0                         0.134249                             1.353909   \n",
       "1                         0.607414                            -2.256688   \n",
       "2                        -1.981039                             1.353891   \n",
       "3                        -0.923395                             2.731632   \n",
       "4                         0.134249                            -2.066631   \n",
       "\n",
       "   Embarked_scaled-TicketNumber_scaled  Embarked_scaled/CabinLetter_scaled  \\\n",
       "0                            -0.157737                            1.375573   \n",
       "1                             1.338317                            7.804414   \n",
       "2                            -0.157731                            1.375573   \n",
       "3                            -0.382529                           -5.078282   \n",
       "4                            -0.895426                            1.375573   \n",
       "\n",
       "   Embarked_scaled-CabinLetter_scaled  Embarked_scaled*Embarked_scaled  \n",
       "0                           -0.164756                         0.364135  \n",
       "1                            0.808546                         0.860021  \n",
       "2                           -0.164756                         0.364135  \n",
       "3                           -0.722262                         0.364135  \n",
       "4                           -0.164756                         0.364135  \n",
       "\n",
       "[5 rows x 357 columns]"
      ]
     },
     "execution_count": 8,
     "metadata": {},
     "output_type": "execute_result"
    }
   ],
   "source": [
    "X_train.head()"
   ]
  },
  {
   "cell_type": "markdown",
   "metadata": {},
   "source": [
    "## 1. Based on X_train data form dfdf.csv; (all features included)"
   ]
  },
  {
   "cell_type": "markdown",
   "metadata": {},
   "source": [
    "### Filtering the feature\n",
    "\n",
    "- If features are categorical, calcluate a chi-square statistic between each feature and the target vector.\n",
    "- If the features are quantitative, compute the ANOVA F-value between each feature and the target vector.\n",
    "\n",
    "**F-value** scores exmaine if, when we group the numerical feature by the target vector, the means for each group are significantly different. \n",
    "\n",
    "The methods based on F-test estimate the degree of linear dependency between two random variables. On the other hand, mutual information methods can capture any kind of statistical dependency, but being nonparametric, they require more samples for accurate estimation."
   ]
  },
  {
   "cell_type": "code",
   "execution_count": 9,
   "metadata": {},
   "outputs": [
    {
     "data": {
      "image/png": "[encoded data removed]",
      "text/plain": [
       "<matplotlib.figure.Figure at 0xaf5bb70>"
      ]
     },
     "metadata": {},
     "output_type": "display_data"
    },
    {
     "name": "stdout",
     "output_type": "stream",
     "text": [
      "The best cross-validation score is 0.8305578254454659 when n_estimator = 190\n"
     ]
    }
   ],
   "source": [
    "# Let's try to find a good estimator to get max cross validation score\n",
    "from sklearn.model_selection import cross_val_score \n",
    "from sklearn.metrics import accuracy_score\n",
    "def rf_clf(X_train, X_test, \n",
    "           params = {'n_estimators':[150, 170, 180, 190, 200 ,220, 230]}):\n",
    "    scores_ = []\n",
    "    for n in params['n_estimators']:\n",
    "        forest = RandomForestClassifier(n_estimators=n,random_state=0,\n",
    "                                       min_samples_split=4, max_features = 'sqrt')\n",
    "        forest.fit(X_train, y_train)\n",
    "        scores = cross_val_score(forest, X_train, y_train, cv=10)\n",
    "        score = np.average(scores)\n",
    "        scores_.append(score)\n",
    "    plt.plot(params['n_estimators'], scores_)\n",
    "    plt.show()\n",
    "    print('The best cross-validation score is {0} when n_estimator = {1}'.format(max(scores_), \n",
    "                                                                 params['n_estimators'][scores_.index(max(scores_))]))\n",
    "    n = params['n_estimators'][scores_.index(max(scores_))]\n",
    "    forest = RandomForestClassifier(n_estimators=n,random_state=0,\n",
    "                                       min_samples_split=4, max_features = 'sqrt')\n",
    "    forest.fit(X_train, y_train)\n",
    "rf_clf(X_train, X_test)"
   ]
  },
  {
   "cell_type": "code",
   "execution_count": 58,
   "metadata": {
    "scrolled": false
   },
   "outputs": [
    {
     "name": "stdout",
     "output_type": "stream",
     "text": [
      "train cv score - 0.83950617284\n",
      "best params are{'min_samples_split': 7, 'n_estimators': 70}\n"
     ]
    },
    {
     "data": {
      "text/plain": [
       "GridSearchCV(cv=5, error_score='raise',\n",
       "       estimator=RandomForestClassifier(bootstrap=True, class_weight=None, criterion='gini',\n",
       "            max_depth=None, max_features='auto', max_leaf_nodes=None,\n",
       "            min_impurity_split=1e-07, min_samples_leaf=1,\n",
       "            min_samples_split=2, min_weight_fraction_leaf=0.0,\n",
       "            n_estimators=10, n_jobs=1, oob_score=False, random_state=0,\n",
       "            verbose=0, warm_start=False),\n",
       "       fit_params={}, iid=True, n_jobs=1,\n",
       "       param_grid={'n_estimators': [1, 5, 10, 20, 50, 70, 100, 150, 200], 'min_samples_split': [2, 3, 4, 5, 6, 7, 8, 9, 10]},\n",
       "       pre_dispatch='2*n_jobs', refit=True, return_train_score=True,\n",
       "       scoring=None, verbose=0)"
      ]
     },
     "execution_count": 58,
     "metadata": {},
     "output_type": "execute_result"
    }
   ],
   "source": [
    "# let's try gridsearchCV\n",
    "def rf_clf_grid(X_train, X_test, \n",
    "                params = {'n_estimators':[1,5,10,20,50, 70,100, 150, 200],\n",
    "             'min_samples_split':[2,3,4,5,6,7,8,9,10]}):\n",
    "    from sklearn.model_selection import GridSearchCV\n",
    "    grid_search = GridSearchCV(RandomForestClassifier(random_state=0), \n",
    "                               params, cv = 5)\n",
    "    grid_search.fit(X_train, y_train)\n",
    "    y_predict = grid_search.predict(X_test)\n",
    "    print('train cv score - ' + str(grid_search.best_score_))\n",
    "    print('best params are' + str(grid_search.best_params_))\n",
    "    return grid_search\n",
    "    #return grid_search\n",
    "rf_clf_grid(X_train, X_test)"
   ]
  },
  {
   "cell_type": "markdown",
   "metadata": {},
   "source": [
    "### Drop columns with highly correlated data\n",
    "\n",
    "As our features contain more than 300 features, it's reasonable to check the correlation between each feature and drop the highly correlated ones. "
   ]
  },
  {
   "cell_type": "code",
   "execution_count": 11,
   "metadata": {},
   "outputs": [
    {
     "name": "stdout",
     "output_type": "stream",
     "text": [
      "\n",
      "Dropping 113 highly correlated features\n",
      "Shape of new datasets: (1309, 245)\n"
     ]
    }
   ],
   "source": [
    "def df_no_corr(data):\n",
    "    df_corr=data.drop(['Survived'],axis=1).corr(method='spearman')\n",
    "    mask=np.ones(df_corr.columns.size)-np.eye(df_corr.columns.size)\n",
    "    df_corr=df_corr*mask\n",
    "    drops=[]\n",
    "    for col in df_corr.columns.values:\n",
    "        if np.in1d([col],drops):\n",
    "            continue\n",
    "        corr=df_corr.index[abs(df_corr[col])>0.9].values\n",
    "        drops=np.union1d(drops,corr)\n",
    "    print(\"\\nDropping\",drops.shape[0],\"highly correlated features\")\n",
    "    data_nocorr=data.drop(drops,axis=1,inplace=False)\n",
    "    return data_nocorr\n",
    "print('Shape of new datasets: {}'.format(df_no_corr(data).shape))"
   ]
  },
  {
   "cell_type": "markdown",
   "metadata": {},
   "source": [
    "### Try the same model on the modified datasets"
   ]
  },
  {
   "cell_type": "code",
   "execution_count": 12,
   "metadata": {},
   "outputs": [
    {
     "name": "stdout",
     "output_type": "stream",
     "text": [
      "\n",
      "Dropping 113 highly correlated features\n",
      "train cv score - 0.838383838384\n",
      "best params are{'min_samples_split': 6, 'n_estimators': 100}\n"
     ]
    },
    {
     "data": {
      "text/plain": [
       "GridSearchCV(cv=5, error_score='raise',\n",
       "       estimator=RandomForestClassifier(bootstrap=True, class_weight=None, criterion='gini',\n",
       "            max_depth=None, max_features='auto', max_leaf_nodes=None,\n",
       "            min_impurity_split=1e-07, min_samples_leaf=1,\n",
       "            min_samples_split=2, min_weight_fraction_leaf=0.0,\n",
       "            n_estimators=10, n_jobs=1, oob_score=False, random_state=0,\n",
       "            verbose=0, warm_start=False),\n",
       "       fit_params={}, iid=True, n_jobs=1,\n",
       "       param_grid={'n_estimators': [1, 5, 10, 20, 50, 70, 100, 150, 200], 'min_samples_split': [2, 3, 4, 5, 6, 7, 8, 9, 10]},\n",
       "       pre_dispatch='2*n_jobs', refit=True, return_train_score=True,\n",
       "       scoring=None, verbose=0)"
      ]
     },
     "execution_count": 12,
     "metadata": {},
     "output_type": "execute_result"
    }
   ],
   "source": [
    "data_new = df_no_corr(data)\n",
    "X_train_new = data_new.iloc[:891,1:]\n",
    "X_test_new = data_new.iloc[891:,1:]\n",
    "rf_clf_grid(X_train_new, X_test_new) #the highest score so far\n",
    "# after data cleaning by correlation"
   ]
  },
  {
   "cell_type": "markdown",
   "metadata": {},
   "source": [
    "\n",
    "Then we also want to select the SelectKBest features based on f_classif.\n",
    "\n"
   ]
  },
  {
   "cell_type": "code",
   "execution_count": 13,
   "metadata": {
    "scrolled": true
   },
   "outputs": [
    {
     "name": "stdout",
     "output_type": "stream",
     "text": [
      "Features importance :\n",
      "(891, 100)\n"
     ]
    }
   ],
   "source": [
    "from sklearn.feature_selection import SelectKBest, f_classif\n",
    "\n",
    "def feature_sel2(X, k=100):\n",
    "    selector = SelectKBest(f_classif, k=k)\n",
    "    selector.fit(X_train, y_train)\n",
    "    scores = -np.log10(selector.pvalues_)\n",
    "    indices = np.argsort(scores)[::-1]\n",
    "    print(\"Features importance :\")\n",
    "    #for f in range(len(scores)):\n",
    "        #print(\"%0.2f %s\" % (scores[indices[f]],X_train.columns[indices[f]]))\n",
    "    X_new = selector.transform(X)\n",
    "    return X_new\n",
    "X_new = feature_sel2(pd.concat([X_train, X_test]))\n",
    "X_train_new = X_new[:891,:]\n",
    "X_test_new = X_new[891:,:]\n",
    "print(X_train_new.shape)"
   ]
  },
  {
   "cell_type": "code",
   "execution_count": 14,
   "metadata": {},
   "outputs": [
    {
     "name": "stdout",
     "output_type": "stream",
     "text": [
      "train cv score - 0.838383838384\n",
      "best params are{'min_samples_split': 6, 'n_estimators': 50}\n"
     ]
    },
    {
     "data": {
      "text/plain": [
       "GridSearchCV(cv=5, error_score='raise',\n",
       "       estimator=RandomForestClassifier(bootstrap=True, class_weight=None, criterion='gini',\n",
       "            max_depth=None, max_features='auto', max_leaf_nodes=None,\n",
       "            min_impurity_split=1e-07, min_samples_leaf=1,\n",
       "            min_samples_split=2, min_weight_fraction_leaf=0.0,\n",
       "            n_estimators=10, n_jobs=1, oob_score=False, random_state=0,\n",
       "            verbose=0, warm_start=False),\n",
       "       fit_params={}, iid=True, n_jobs=1,\n",
       "       param_grid={'n_estimators': [1, 5, 10, 20, 50, 70, 100, 150, 200], 'min_samples_split': [2, 3, 4, 5, 6, 7, 8, 9, 10]},\n",
       "       pre_dispatch='2*n_jobs', refit=True, return_train_score=True,\n",
       "       scoring=None, verbose=0)"
      ]
     },
     "execution_count": 14,
     "metadata": {},
     "output_type": "execute_result"
    }
   ],
   "source": [
    "rf_clf_grid(X_train_new, X_test_new) "
   ]
  },
  {
   "cell_type": "markdown",
   "metadata": {},
   "source": [
    "### Try SelectFromModel from sklearn"
   ]
  },
  {
   "cell_type": "code",
   "execution_count": 15,
   "metadata": {},
   "outputs": [
    {
     "name": "stdout",
     "output_type": "stream",
     "text": [
      "(1309, 92)\n",
      "0.00280112044818\n",
      "train cv score - 0.846240179574\n",
      "best params are{'min_samples_split': 7, 'n_estimators': 100}\n"
     ]
    },
    {
     "data": {
      "text/plain": [
       "GridSearchCV(cv=5, error_score='raise',\n",
       "       estimator=RandomForestClassifier(bootstrap=True, class_weight=None, criterion='gini',\n",
       "            max_depth=None, max_features='auto', max_leaf_nodes=None,\n",
       "            min_impurity_split=1e-07, min_samples_leaf=1,\n",
       "            min_samples_split=2, min_weight_fraction_leaf=0.0,\n",
       "            n_estimators=10, n_jobs=1, oob_score=False, random_state=0,\n",
       "            verbose=0, warm_start=False),\n",
       "       fit_params={}, iid=True, n_jobs=1,\n",
       "       param_grid={'n_estimators': [1, 5, 10, 20, 50, 70, 100, 150, 200], 'min_samples_split': [2, 3, 4, 5, 6, 7, 8, 9, 10]},\n",
       "       pre_dispatch='2*n_jobs', refit=True, return_train_score=True,\n",
       "       scoring=None, verbose=0)"
      ]
     },
     "execution_count": 15,
     "metadata": {},
     "output_type": "execute_result"
    }
   ],
   "source": [
    "from sklearn.feature_selection import SelectFromModel\n",
    "def feature_sel(X):\n",
    "    clf = RandomForestClassifier()\n",
    "    clf.fit(X.iloc[:891,:], y_train)\n",
    "    model = SelectFromModel(clf, prefit=True)\n",
    "    X_new = model.transform(X)\n",
    "    print(X_new.shape)\n",
    "    print(model.threshold_)\n",
    "    return X_new\n",
    "X_new = feature_sel(pd.concat([X_train, X_test]))\n",
    "X_train_new = X_new[:891,:]\n",
    "X_test_new = X_new[891:,:]\n",
    "rf_clf_grid(X_train_new, X_test_new) "
   ]
  },
  {
   "cell_type": "markdown",
   "metadata": {},
   "source": [
    "### Export our result for stacking"
   ]
  },
  {
   "cell_type": "code",
   "execution_count": 349,
   "metadata": {
    "collapsed": true
   },
   "outputs": [],
   "source": [
    "pd.DataFrame(output.predict(X_test_new)).to_csv('rdf.csv')"
   ]
  },
  {
   "cell_type": "code",
   "execution_count": 462,
   "metadata": {
    "collapsed": true
   },
   "outputs": [],
   "source": [
    "pd.DataFrame(output.predict(X_train_new)).to_csv('rdf_train.csv')"
   ]
  },
  {
   "cell_type": "markdown",
   "metadata": {},
   "source": [
    "## Let's try drop the age column"
   ]
  },
  {
   "cell_type": "code",
   "execution_count": 350,
   "metadata": {},
   "outputs": [
    {
     "name": "stdout",
     "output_type": "stream",
     "text": [
      "(891, 357)\n",
      "(418, 357)\n"
     ]
    }
   ],
   "source": [
    "print(X_train.shape)\n",
    "print(X_test.shape)"
   ]
  },
  {
   "cell_type": "code",
   "execution_count": 16,
   "metadata": {},
   "outputs": [
    {
     "name": "stdout",
     "output_type": "stream",
     "text": [
      "New data shape\n",
      "(891, 355)\n",
      "New data shape\n",
      "(418, 355)\n"
     ]
    }
   ],
   "source": [
    "datasets = [X_train, X_test]\n",
    "for i in range(2):\n",
    "    try:\n",
    "        datasets[i] = datasets[i].drop(['Age', 'Age1'],axis=1)\n",
    "    except:\n",
    "        pass\n",
    "for dataset in datasets:\n",
    "    print('New data shape')\n",
    "    print(dataset.shape)"
   ]
  },
  {
   "cell_type": "code",
   "execution_count": 17,
   "metadata": {},
   "outputs": [
    {
     "name": "stdout",
     "output_type": "stream",
     "text": [
      "train cv score - 0.840628507295\n",
      "best params are{'min_samples_split': 7, 'n_estimators': 50}\n"
     ]
    },
    {
     "data": {
      "text/plain": [
       "GridSearchCV(cv=5, error_score='raise',\n",
       "       estimator=RandomForestClassifier(bootstrap=True, class_weight=None, criterion='gini',\n",
       "            max_depth=None, max_features='auto', max_leaf_nodes=None,\n",
       "            min_impurity_split=1e-07, min_samples_leaf=1,\n",
       "            min_samples_split=2, min_weight_fraction_leaf=0.0,\n",
       "            n_estimators=10, n_jobs=1, oob_score=False, random_state=0,\n",
       "            verbose=0, warm_start=False),\n",
       "       fit_params={}, iid=True, n_jobs=1,\n",
       "       param_grid={'n_estimators': [1, 5, 10, 20, 50, 70, 100, 150, 200], 'min_samples_split': [2, 3, 4, 5, 6, 7, 8, 9, 10]},\n",
       "       pre_dispatch='2*n_jobs', refit=True, return_train_score=True,\n",
       "       scoring=None, verbose=0)"
      ]
     },
     "execution_count": 17,
     "metadata": {},
     "output_type": "execute_result"
    }
   ],
   "source": [
    "# Let's try the new train data\n",
    "rf_clf_grid(datasets[0], datasets[1])"
   ]
  },
  {
   "cell_type": "markdown",
   "metadata": {},
   "source": [
    "## Let's try some other data sources"
   ]
  },
  {
   "cell_type": "code",
   "execution_count": 19,
   "metadata": {
    "collapsed": true
   },
   "outputs": [],
   "source": [
    "def kernel_data():\n",
    "    train_df = pd.read_csv('input/train.csv')\n",
    "    test_df = pd.read_csv('input/test.csv')\n",
    "    combine = [train_df, test_df]\n",
    "    train_df = train_df.drop(['Ticket', 'Cabin'], axis=1)\n",
    "    test_df = test_df.drop(['Ticket', 'Cabin'], axis=1)\n",
    "    \n",
    "    # Firstly, we extract the Title from Name column: Sir, Madame, Mrs, Doc. etc.\n",
    "    for dataset in combine:\n",
    "        dataset['Title'] = dataset.Name.str.extract(' ([A-Za-z]+)\\.', expand=False)\n",
    "    \n",
    "    # Combine unfrequent titles into same categories and numerize the categorical data\n",
    "    for dataset in combine:\n",
    "        dataset['Title'] = dataset['Title'].replace(['Lady', 'Countess','Capt', 'Col',\\\n",
    "        'Don', 'Dr', 'Major', 'Rev', 'Sir', 'Jonkheer', 'Dona'], 'Rare')\n",
    "        dataset['Title'] = dataset['Title'].replace('Mlle', 'Miss')\n",
    "        dataset['Title'] = dataset['Title'].replace('Ms', 'Miss')\n",
    "        dataset['Title'] = dataset['Title'].replace('Mme', 'Mrs')\n",
    "    title_mapping = {\"Mr\": 1, \"Miss\": 2, \"Mrs\": 3, \"Master\": 4, \"Rare\": 5}\n",
    "    \n",
    "    # map title columns and fill NA rows with 0\n",
    "    for dataset in combine:\n",
    "        dataset['Title'] = dataset['Title'].map(title_mapping)\n",
    "        dataset['Title'] = dataset['Title'].fillna(0)\n",
    "    # Since Name column and PassengerID columns are quite unique and does not provide much information, we decided to drop them\n",
    "    train_df = train_df.drop(['Name', 'PassengerId'], axis=1)\n",
    "    test_df = test_df.drop(['Name'], axis=1)\n",
    "    combine = [train_df, test_df]\n",
    "    \n",
    "    # Numerize the categorical columns ('Sex')\n",
    "    for dataset in combine:\n",
    "        dataset['Sex'] = dataset['Sex'].map( {'female': 1, 'male': 0} ).astype(int)\n",
    "    \n",
    "    # Fill missing ages with median value in the same Sex and PClass\n",
    "    guess_ages = np.zeros((2,3))\n",
    "    for dataset in combine:\n",
    "        for i in range(0, 2):\n",
    "            for j in range(0, 3):\n",
    "                guess_df = dataset[(dataset['Sex'] == i) & \\\n",
    "                                      (dataset['Pclass'] == j+1)]['Age'].dropna()\n",
    "                age_guess = guess_df.median()\n",
    "\n",
    "                # Convert random age float to nearest .5 age\n",
    "                guess_ages[i,j] = int( age_guess/0.5 + 0.5 ) * 0.5\n",
    "\n",
    "        for i in range(0, 2):\n",
    "            for j in range(0, 3):\n",
    "                dataset.loc[ (dataset.Age.isnull()) & (dataset.Sex == i) & (dataset.Pclass == j+1),\\\n",
    "                        'Age'] = guess_ages[i,j]\n",
    "    dataset['Age'] = dataset['Age'].astype(int)\n",
    "    \n",
    "    # bin Age column into 5 and numerize the categorical items\n",
    "    train_df['AgeBand'] = pd.cut(train_df['Age'], 5)\n",
    "    for dataset in combine:    \n",
    "        dataset.loc[ dataset['Age'] <= 16, 'Age'] = 0\n",
    "        dataset.loc[(dataset['Age'] > 16) & (dataset['Age'] <= 32), 'Age'] = 1\n",
    "        dataset.loc[(dataset['Age'] > 32) & (dataset['Age'] <= 48), 'Age'] = 2\n",
    "        dataset.loc[(dataset['Age'] > 48) & (dataset['Age'] <= 64), 'Age'] = 3\n",
    "        dataset.loc[ dataset['Age'] > 64, 'Age']\n",
    "    train_df = train_df.drop(['AgeBand'], axis=1)\n",
    "    combine = [train_df, test_df]  \n",
    "    \n",
    "    # manually create another column of Family Size\n",
    "    for dataset in combine:\n",
    "        dataset['FamilySize'] = dataset['SibSp'] + dataset['Parch'] + 1\n",
    "    for dataset in combine:\n",
    "        dataset['IsAlone'] = 0\n",
    "        dataset.loc[dataset['FamilySize'] == 1, 'IsAlone'] = 1\n",
    "    \n",
    "    # Drop Parch, SibSp and FamilySize\n",
    "    train_df = train_df.drop(['Parch', 'SibSp', 'FamilySize'], axis=1)\n",
    "    test_df = test_df.drop(['Parch', 'SibSp', 'FamilySize'], axis=1)\n",
    "    combine = [train_df, test_df]\n",
    "    \n",
    "    # Manually create another column\n",
    "    for dataset in combine:\n",
    "        dataset['Age*Class'] = dataset.Age * dataset.Pclass\n",
    "        \n",
    "    # Fill in NA item in Embarked columns (mode value)\n",
    "    freq_port = train_df.Embarked.dropna().mode()[0]\n",
    "    for dataset in combine:\n",
    "        dataset['Embarked'] = dataset['Embarked'].fillna(freq_port)\n",
    "    for dataset in combine:\n",
    "        dataset['Embarked'] = dataset['Embarked'].map( {'S': 0, 'C': 1, 'Q': 2} ).astype(int)\n",
    "    \n",
    "    # Bin Fare column\n",
    "    test_df['Fare'].fillna(test_df['Fare'].dropna().median(), inplace=True)\n",
    "    train_df['FareBand'] = pd.qcut(train_df['Fare'], 4)\n",
    "    for dataset in combine:\n",
    "        dataset.loc[ dataset['Fare'] <= 7.91, 'Fare'] = 0\n",
    "        dataset.loc[(dataset['Fare'] > 7.91) & (dataset['Fare'] <= 14.454), 'Fare'] = 1\n",
    "        dataset.loc[(dataset['Fare'] > 14.454) & (dataset['Fare'] <= 31), 'Fare']   = 2\n",
    "        dataset.loc[ dataset['Fare'] > 31, 'Fare'] = 3\n",
    "        dataset['Fare'] = dataset['Fare'].astype(int)\n",
    "\n",
    "    # Drop Fare column    \n",
    "    train_df = train_df.drop(['FareBand'], axis=1)\n",
    "    train_df.drop('Survived', axis=1, inplace=True)\n",
    "    test_df.drop('PassengerId', axis=1, inplace = True)\n",
    "    combine = [train_df, test_df]\n",
    "    return combine\n",
    "kaggle = kernel_data()"
   ]
  },
  {
   "cell_type": "code",
   "execution_count": 23,
   "metadata": {},
   "outputs": [
    {
     "data": {
      "image/png": "[encoded data removed]",
      "text/plain": [
       "<matplotlib.figure.Figure at 0xa170f28>"
      ]
     },
     "metadata": {},
     "output_type": "display_data"
    },
    {
     "name": "stdout",
     "output_type": "stream",
     "text": [
      "The best cross-validation score is 0.8093221541255249 when n_estimator = 220\n"
     ]
    }
   ],
   "source": [
    "rf_clf(kaggle[0], kaggle[1],\n",
    "       params = {'n_estimators':[50, 100, 200,\n",
    "                                 220, 230, 300, 400]})"
   ]
  },
  {
   "cell_type": "code",
   "execution_count": 21,
   "metadata": {
    "scrolled": true
   },
   "outputs": [
    {
     "name": "stdout",
     "output_type": "stream",
     "text": [
      "train cv score - 0.81593714927\n",
      "best params are{'min_samples_split': 5, 'n_estimators': 5}\n"
     ]
    },
    {
     "data": {
      "text/plain": [
       "GridSearchCV(cv=5, error_score='raise',\n",
       "       estimator=RandomForestClassifier(bootstrap=True, class_weight=None, criterion='gini',\n",
       "            max_depth=None, max_features='auto', max_leaf_nodes=None,\n",
       "            min_impurity_split=1e-07, min_samples_leaf=1,\n",
       "            min_samples_split=2, min_weight_fraction_leaf=0.0,\n",
       "            n_estimators=10, n_jobs=1, oob_score=False, random_state=0,\n",
       "            verbose=0, warm_start=False),\n",
       "       fit_params={}, iid=True, n_jobs=1,\n",
       "       param_grid={'n_estimators': [1, 5, 10, 20, 50, 70, 100, 150, 200], 'min_samples_split': [2, 3, 4, 5, 6, 7, 8, 9, 10]},\n",
       "       pre_dispatch='2*n_jobs', refit=True, return_train_score=True,\n",
       "       scoring=None, verbose=0)"
      ]
     },
     "execution_count": 21,
     "metadata": {},
     "output_type": "execute_result"
    }
   ],
   "source": [
    "rf_clf_grid(kaggle[0], kaggle[1],\n",
    "            n_list = [170, 180, 190,200,220, 230,250])"
   ]
  },
  {
   "cell_type": "markdown",
   "metadata": {},
   "source": [
    "## SVC"
   ]
  },
  {
   "cell_type": "code",
   "execution_count": 29,
   "metadata": {
    "scrolled": false
   },
   "outputs": [
    {
     "name": "stdout",
     "output_type": "stream",
     "text": [
      "train score - 0.808080808081\n",
      "best params are{'C': 100, 'gamma': 0.1}\n",
      "train score - 0.821548821549\n",
      "best params are{'C': 1, 'gamma': 0.0001}\n",
      "train score - 0.822671156004\n",
      "best params are{'C': 1, 'gamma': 0.0001}\n",
      "train score - 0.818181818182\n",
      "best params are{'C': 10, 'gamma': 0.0001}\n"
     ]
    }
   ],
   "source": [
    "def svc_model_grid(X_train, X_test):\n",
    "    params = {'C': [1, 10, 100, 1000], \n",
    "                  'gamma': [0.01,0.1,1,0.001, 0.0001]}\n",
    "     \n",
    "    grid_search = GridSearchCV(SVC(random_state=0), params, cv=5)\n",
    "    grid_search.fit(X_train, y_train)\n",
    "    print('train score - ' + str(grid_search.best_score_))\n",
    "    print('best params are' + str(grid_search.best_params_)) \n",
    "    #return grid_search\n",
    "svc_model_grid(kaggle[0], kaggle[1])\n",
    "svc_model_grid(X_train, X_test)\n",
    "svc_model_grid(datasets[0],datasets[1])\n",
    "svc_model_grid(X_train_new, X_test_new)"
   ]
  },
  {
   "cell_type": "markdown",
   "metadata": {},
   "source": [
    "## KNN\n",
    "\n",
    "First plot the graph to have an idea where should we test the parameter range"
   ]
  },
  {
   "cell_type": "code",
   "execution_count": 250,
   "metadata": {},
   "outputs": [
    {
     "data": {
      "image/png": "[encoded data removed]",
      "text/plain": [
       "<matplotlib.figure.Figure at 0xd412b38>"
      ]
     },
     "metadata": {},
     "output_type": "display_data"
    },
    {
     "data": {
      "image/png": "[encoded data removed]",
      "text/plain": [
       "<matplotlib.figure.Figure at 0xd6d39e8>"
      ]
     },
     "metadata": {},
     "output_type": "display_data"
    },
    {
     "data": {
      "image/png": "[encoded data removed]",
      "text/plain": [
       "<matplotlib.figure.Figure at 0x10e9f588>"
      ]
     },
     "metadata": {},
     "output_type": "display_data"
    }
   ],
   "source": [
    "def knn(X_train, X_test):\n",
    "    n_list = [3,5,7,10,15,20]\n",
    "    scores = []\n",
    "    for n in n_list:\n",
    "        knn = KNeighborsClassifier(n_neighbors=n)\n",
    "        knn.fit(X_train, y_train)\n",
    "        y_pred = knn.predict(X_test)\n",
    "        \n",
    "        #print('Train accuracy {}'.format(accuracy_score(y_train, \n",
    "                                                        #knn.predict(X_train))))\n",
    "        scores.append(accuracy_score(y_test, knn.predict(X_test)))\n",
    "        #print('Test accuracy {}'.format(accuracy_score(y_test, y_pred)))\n",
    "    plt.plot(n_list, scores)\n",
    "    plt.show()\n",
    "knn(X_train, X_test)\n",
    "knn(kaggle[0], kaggle[1])\n",
    "knn(datasets[0], datasets[1])"
   ]
  },
  {
   "cell_type": "code",
   "execution_count": 31,
   "metadata": {},
   "outputs": [
    {
     "name": "stdout",
     "output_type": "stream",
     "text": [
      "train score - 0.799102132435\n",
      "best params are{'n_neighbors': 13}\n",
      "train score - 0.794612794613\n",
      "best params are{'n_neighbors': 7}\n",
      "train score - 0.803591470258\n",
      "best params are{'n_neighbors': 3}\n",
      "train score - 0.765432098765\n",
      "best params are{'n_neighbors': 3}\n"
     ]
    },
    {
     "data": {
      "text/plain": [
       "GridSearchCV(cv=5, error_score='raise',\n",
       "       estimator=KNeighborsClassifier(algorithm='auto', leaf_size=30, metric='minkowski',\n",
       "           metric_params=None, n_jobs=1, n_neighbors=5, p=2,\n",
       "           weights='uniform'),\n",
       "       fit_params={}, iid=True, n_jobs=1,\n",
       "       param_grid={'n_neighbors': [3, 5, 7, 9, 11, 13, 15, 17, 19]},\n",
       "       pre_dispatch='2*n_jobs', refit=True, return_train_score=True,\n",
       "       scoring=None, verbose=0)"
      ]
     },
     "execution_count": 31,
     "metadata": {},
     "output_type": "execute_result"
    }
   ],
   "source": [
    "def knn_grid(X_train, X_test):\n",
    "    params = {'n_neighbors':list(np.arange(3,20,2))}\n",
    "    grid_search = GridSearchCV(KNeighborsClassifier(), params, cv=5)\n",
    "    grid_search.fit(X_train, y_train)\n",
    "    print('train score - ' + str(grid_search.best_score_))\n",
    "    print('best params are' + str(grid_search.best_params_)) \n",
    "    return grid_search\n",
    "knn_grid(X_train, X_test)\n",
    "knn_grid(kaggle[0], kaggle[1])\n",
    "knn_grid(datasets[0], datasets[1])\n",
    "knn_grid(X_train_new, X_test_new)"
   ]
  },
  {
   "cell_type": "markdown",
   "metadata": {},
   "source": [
    "Export best result to knn.csv for stacking"
   ]
  },
  {
   "cell_type": "code",
   "execution_count": 468,
   "metadata": {},
   "outputs": [
    {
     "name": "stdout",
     "output_type": "stream",
     "text": [
      "train score - 0.781144781145\n",
      "test score - 0.751196172249\n",
      "best params are{'n_neighbors': 7}\n"
     ]
    }
   ],
   "source": [
    "output3 = knn_grid(datasets[0], datasets[1])\n",
    "pd.DataFrame(output3.predict(X_test_new)).to_csv('knn.csv')\n",
    "pd.DataFrame(output3.predict(X_train_new)).to_csv('knn_train.csv')"
   ]
  },
  {
   "cell_type": "markdown",
   "metadata": {},
   "source": [
    "## DecisionTree"
   ]
  },
  {
   "cell_type": "code",
   "execution_count": 32,
   "metadata": {
    "scrolled": true
   },
   "outputs": [
    {
     "name": "stdout",
     "output_type": "stream",
     "text": [
      "Train score is 0.9977553310886644\n",
      "0.773383166885\n",
      "Train score is 0.8574635241301908\n",
      "0.798039426382\n",
      "Train score is 0.9932659932659933\n",
      "0.768862896382\n",
      "Train score is 0.9977553310886644\n",
      "0.756478237541\n"
     ]
    }
   ],
   "source": [
    "def decision(X_train, X_test):\n",
    "    decision_tree = DecisionTreeClassifier(max_features='sqrt', random_state=0)\n",
    "    decision_tree.fit(X_train, y_train)\n",
    "    y_pred = decision_tree.predict(X_test)\n",
    "    print('Train score is {}'.format(accuracy_score(y_train, \n",
    "                                                    decision_tree.predict(X_train))))\n",
    "    print(np.mean(cross_val_score(decision_tree,X_train, y_train, cv=5)))\n",
    "    #return y_pred\n",
    "decision(X_train, X_test)    \n",
    "decision(kaggle[0], kaggle[1])\n",
    "decision(datasets[0],datasets[1])\n",
    "decision(X_train_new,X_test_new)"
   ]
  },
  {
   "cell_type": "code",
   "execution_count": 33,
   "metadata": {
    "scrolled": true
   },
   "outputs": [],
   "source": [
    "# Export data\n",
    "pd.DataFrame(decision(kaggle[0], kaggle[1])).to_csv('DecisionTree.csv')\n",
    "\n",
    "decision_tree = DecisionTreeClassifier(max_features='sqrt', \n",
    "                                       random_state=0)\n",
    "decision_tree.fit(kaggle[0], y_train)\n",
    "y_pred = decision_tree.predict(X_train_new)\n",
    "pd.DataFrame(y_pred).to_csv('DecisionTree_train.csv')"
   ]
  },
  {
   "cell_type": "markdown",
   "metadata": {},
   "source": [
    "#### I'm not sure it's useful to do a gridsearchcv for Decision Tree"
   ]
  },
  {
   "cell_type": "markdown",
   "metadata": {},
   "source": [
    "## Logistic Regression"
   ]
  },
  {
   "cell_type": "code",
   "execution_count": 260,
   "metadata": {},
   "outputs": [
    {
     "name": "stdout",
     "output_type": "stream",
     "text": [
      "Train score is 0.9023569023569024\n",
      "Test score is 0.7583732057416268\n",
      "Train score is 0.792368125701459\n",
      "Test score is 0.7631578947368421\n",
      "Train score is 0.9012345679012346\n",
      "Test score is 0.7488038277511961\n"
     ]
    }
   ],
   "source": [
    "def lr(X_train, X_test):\n",
    "    lr = LogisticRegression()\n",
    "    lr.fit(X_train, y_train)\n",
    "    y_pred = lr.predict(X_test)\n",
    "    print('Train score is {}'.format(lr.score(X_train, y_train)))\n",
    "    print('Test score is {}'.format(accuracy_score(y_test, y_pred)))\n",
    "lr(X_train, X_test)\n",
    "lr(kaggle[0], kaggle[1])\n",
    "lr(datasets[0], datasets[1])"
   ]
  },
  {
   "cell_type": "code",
   "execution_count": 34,
   "metadata": {},
   "outputs": [
    {
     "name": "stdout",
     "output_type": "stream",
     "text": [
      "train score - 0.827160493827\n",
      "best params are{'C': 0.01, 'penalty': 'l2'}\n",
      "train score - 0.79012345679\n",
      "best params are{'C': 0.1, 'penalty': 'l1'}\n",
      "train score - 0.822671156004\n",
      "best params are{'C': 0.1, 'penalty': 'l1'}\n",
      "train score - 0.827160493827\n",
      "best params are{'C': 10, 'penalty': 'l2'}\n"
     ]
    },
    {
     "data": {
      "text/plain": [
       "GridSearchCV(cv=5, error_score='raise',\n",
       "       estimator=LogisticRegression(C=1.0, class_weight=None, dual=False, fit_intercept=True,\n",
       "          intercept_scaling=1, max_iter=100, multi_class='ovr', n_jobs=1,\n",
       "          penalty='l2', random_state=0, solver='liblinear', tol=0.0001,\n",
       "          verbose=0, warm_start=False),\n",
       "       fit_params={}, iid=True, n_jobs=1,\n",
       "       param_grid={'penalty': ['l1', 'l2'], 'C': [0.01, 0.1, 1, 10]},\n",
       "       pre_dispatch='2*n_jobs', refit=True, return_train_score=True,\n",
       "       scoring=None, verbose=0)"
      ]
     },
     "execution_count": 34,
     "metadata": {},
     "output_type": "execute_result"
    }
   ],
   "source": [
    "def lr_grid(X_train, X_test):\n",
    "    params = {'penalty':['l1','l2'],\n",
    "             'C':[0.01,0.1,1,10]}\n",
    "    grid_search = GridSearchCV(LogisticRegression(random_state=0), params, cv=5)\n",
    "    grid_search.fit(X_train, y_train)\n",
    "    print('train score - ' + str(grid_search.best_score_))\n",
    "    print('best params are' + str(grid_search.best_params_)) \n",
    "    return grid_search\n",
    "lr_grid(X_train, X_test)\n",
    "lr_grid(kaggle[0], kaggle[1])\n",
    "lr_grid(datasets[0], datasets[1])    \n",
    "lr_grid(X_train_new, X_test_new)"
   ]
  },
  {
   "cell_type": "code",
   "execution_count": 35,
   "metadata": {},
   "outputs": [],
   "source": [
    "pd.DataFrame(lr_grid(X_train, X_test).predict(X_test)).to_csv('lr.csv')\n",
    "pd.DataFrame(lr_grid(X_train, X_test).predict(X_train)).to_csv('lr_train.csv')"
   ]
  },
  {
   "cell_type": "markdown",
   "metadata": {},
   "source": [
    "## New Feature engineering idea\n",
    "\n",
    "Before submission, we came up with another idea to do feature engineering. And test the data if we can get a better score"
   ]
  },
  {
   "cell_type": "code",
   "execution_count": 45,
   "metadata": {},
   "outputs": [
    {
     "name": "stderr",
     "output_type": "stream",
     "text": [
      "D:\\Users\\ThinkPad\\Anaconda3\\lib\\site-packages\\ipykernel_launcher.py:37: FutureWarning: Categorical.from_array is deprecated, use Categorical instead\n",
      "D:\\Users\\ThinkPad\\Anaconda3\\lib\\site-packages\\ipykernel_launcher.py:46: FutureWarning: Categorical.from_array is deprecated, use Categorical instead\n",
      "D:\\Users\\ThinkPad\\Anaconda3\\lib\\site-packages\\ipykernel_launcher.py:86: SettingWithCopyWarning: \n",
      "A value is trying to be set on a copy of a slice from a DataFrame\n",
      "\n",
      "See the caveats in the documentation: http://pandas.pydata.org/pandas-docs/stable/indexing.html#indexing-view-versus-copy\n",
      "D:\\Users\\ThinkPad\\Anaconda3\\lib\\site-packages\\ipykernel_launcher.py:92: SettingWithCopyWarning: \n",
      "A value is trying to be set on a copy of a slice from a DataFrame\n",
      "\n",
      "See the caveats in the documentation: http://pandas.pydata.org/pandas-docs/stable/indexing.html#indexing-view-versus-copy\n",
      "D:\\Users\\ThinkPad\\Anaconda3\\lib\\site-packages\\ipykernel_launcher.py:94: FutureWarning: Categorical.from_array is deprecated, use Categorical instead\n",
      "D:\\Users\\ThinkPad\\Anaconda3\\lib\\site-packages\\ipykernel_launcher.py:96: SettingWithCopyWarning: \n",
      "A value is trying to be set on a copy of a slice from a DataFrame\n",
      "\n",
      "See the caveats in the documentation: http://pandas.pydata.org/pandas-docs/stable/indexing.html#indexing-view-versus-copy\n",
      "D:\\Users\\ThinkPad\\Anaconda3\\lib\\site-packages\\ipykernel_launcher.py:109: SettingWithCopyWarning: \n",
      "A value is trying to be set on a copy of a slice from a DataFrame\n",
      "\n",
      "See the caveats in the documentation: http://pandas.pydata.org/pandas-docs/stable/indexing.html#indexing-view-versus-copy\n",
      "D:\\Users\\ThinkPad\\Anaconda3\\lib\\site-packages\\ipykernel_launcher.py:115: SettingWithCopyWarning: \n",
      "A value is trying to be set on a copy of a slice from a DataFrame\n",
      "\n",
      "See the caveats in the documentation: http://pandas.pydata.org/pandas-docs/stable/indexing.html#indexing-view-versus-copy\n",
      "D:\\Users\\ThinkPad\\Anaconda3\\lib\\site-packages\\ipykernel_launcher.py:117: FutureWarning: Categorical.from_array is deprecated, use Categorical instead\n",
      "D:\\Users\\ThinkPad\\Anaconda3\\lib\\site-packages\\ipykernel_launcher.py:119: SettingWithCopyWarning: \n",
      "A value is trying to be set on a copy of a slice from a DataFrame\n",
      "\n",
      "See the caveats in the documentation: http://pandas.pydata.org/pandas-docs/stable/indexing.html#indexing-view-versus-copy\n",
      "D:\\Users\\ThinkPad\\Anaconda3\\lib\\site-packages\\ipykernel_launcher.py:134: SettingWithCopyWarning: \n",
      "A value is trying to be set on a copy of a slice from a DataFrame\n",
      "\n",
      "See the caveats in the documentation: http://pandas.pydata.org/pandas-docs/stable/indexing.html#indexing-view-versus-copy\n"
     ]
    }
   ],
   "source": [
    "import numpy as np\n",
    "import pandas as pd\n",
    "from sklearn.ensemble import RandomForestClassifier, ExtraTreesRegressor\n",
    "from sklearn import cross_validation\n",
    "import re\n",
    "import operator\n",
    "from sklearn.feature_selection import SelectKBest, f_classif\n",
    "\n",
    "# import train and test data\n",
    "\n",
    "train = pd.read_csv(\"input/train.csv\", dtype={\"Age\": np.float64}, )\n",
    "test = pd.read_csv(\"input/test.csv\", dtype={\"Age\": np.float64}, )\n",
    "\n",
    "target = train[\"Survived\"].values\n",
    "full = pd.concat([train, test])\n",
    "\n",
    "# split title from surname\n",
    "\n",
    "full['surname'] = full[\"Name\"].apply(lambda x: x.split(',')[0].lower())\n",
    "\n",
    "# numerize the categorical data\n",
    "\n",
    "full[\"Title\"] = full[\"Name\"].apply(lambda x: re.search(' ([A-Za-z]+)\\.',x).group(1))\n",
    "title_mapping = {\"Mr\": 1, \"Miss\": 2, \"Mrs\": 3, \"Master\": 4, \"Dr\": 5, \"Rev\": 6, \"Major\": 7, \n",
    "                 \"Col\": 7, \"Mlle\": 2, \"Mme\": 3,\"Don\": 9,\"Dona\": 9, \"Lady\": 10, \"Countess\": 10, \"Jonkheer\": 10, \"Sir\": 9, \"Capt\": 7, \"Ms\": 2}\n",
    "full[\"TitleCat\"] = full.loc[:,'Title'].map(title_mapping)\n",
    "\n",
    "# create a feature called FamilySize\n",
    "\n",
    "full[\"FamilySize\"] = full[\"SibSp\"] + full[\"Parch\"] + 1\n",
    "full[\"FamilySize\"] = pd.cut(full[\"FamilySize\"], bins=[0,1,4,20], labels=[0,1,2])\n",
    "\n",
    "# create a new feature called NameLength\n",
    "\n",
    "full[\"NameLength\"] = full[\"Name\"].apply(lambda x: len(x))\n",
    "\n",
    "full[\"Embarked\"] = pd.Categorical.from_array(full.Embarked).codes\n",
    "\n",
    "# fill in Fare value for test_set using median fare of the corresponding class (8.05 pounds)\n",
    "\n",
    "full[\"Fare\"] = full[\"Fare\"].fillna(8.05)\n",
    "\n",
    "# create dummy variables for Sex\n",
    "full = pd.concat([full,pd.get_dummies(full['Sex'])],axis=1)\n",
    "\n",
    "full['CabinCat'] = pd.Categorical.from_array(full.Cabin.fillna('0').apply(lambda x: x[0])).codes\n",
    "\n",
    "# function to get oven/odd/null from cabine \n",
    "def get_type_cabine(cabine):\n",
    "    # Use a regular expression to search for a title. \n",
    "    cabine_search = re.search('\\d+', cabine)\n",
    "    # If the title exists, extract and return it.\n",
    "    if cabine_search:\n",
    "        num = cabine_search.group(0)\n",
    "        if np.float64(num) % 2 == 0:\n",
    "            return '2'\n",
    "        else:\n",
    "            return '1'\n",
    "    return '0'\n",
    "full[\"Cabin\"] = full[\"Cabin\"].fillna(\" \")\n",
    "\n",
    "full[\"CabinType\"] = full[\"Cabin\"].apply(get_type_cabine)\n",
    "#print(pd.value_counts(full[\"CabinType\"]))\n",
    "\n",
    "#### CHILD/FEMALE ADULT/MALE ADULT------------------------------------------------------------\n",
    "child_age = 18\n",
    "def get_person(passenger):\n",
    "    age, sex = passenger\n",
    "    if (age < child_age):\n",
    "        return 'child'\n",
    "    elif (sex == 'female'):\n",
    "        return 'female_adult'\n",
    "    else:\n",
    "        return 'male_adult'\n",
    "full = pd.concat([full, pd.DataFrame(full[['Age', 'Sex']].apply(get_person, axis=1), columns=['person'])],axis=1)\n",
    "full = pd.concat([full,pd.get_dummies(full['person'])],axis=1)\n",
    "\n",
    "### FEATURES BASED ON TICKET   --------------------------------------------------------\n",
    "table_ticket = pd.DataFrame(full[\"Ticket\"].value_counts())\n",
    "table_ticket.rename(columns={'Ticket':'Ticket_Members'}, inplace=True)\n",
    "\n",
    "table_ticket['Ticket_perishing_women'] = full.Ticket[(full.female_adult == 1.0) \n",
    "                                    & (full.Survived == 0.0) \n",
    "                                    & ((full.Parch > 0) | (full.SibSp > 0))].value_counts()\n",
    "table_ticket['Ticket_perishing_women'] = table_ticket['Ticket_perishing_women'].fillna(0)\n",
    "table_ticket['Ticket_perishing_women'][table_ticket['Ticket_perishing_women'] > 0] = 1.0 \n",
    "\n",
    "table_ticket['Ticket_surviving_men'] = full.Ticket[(full.male_adult == 1.0) \n",
    "                                    & (full.Survived == 1.0) \n",
    "                                    & ((full.Parch > 0) | (full.SibSp > 0))].value_counts()\n",
    "table_ticket['Ticket_surviving_men'] = table_ticket['Ticket_surviving_men'].fillna(0)\n",
    "table_ticket['Ticket_surviving_men'][table_ticket['Ticket_surviving_men'] > 0] = 1.0 \n",
    "\n",
    "table_ticket[\"Ticket_Id\"]= pd.Categorical.from_array(table_ticket.index).codes\n",
    "# compress under 3 members into one code.\n",
    "table_ticket[\"Ticket_Id\"][table_ticket[\"Ticket_Members\"] < 3 ] = -1\n",
    "table_ticket[\"Ticket_Members\"] = pd.cut(table_ticket[\"Ticket_Members\"], bins=[0,1,4,20], labels=[0,1,2])\n",
    "\n",
    "full = pd.merge(full, table_ticket, left_on=\"Ticket\",right_index=True,how='left', sort=False)\n",
    "\n",
    "### FEATURES BASED ON SURNAME    --------------------------------------------------------\n",
    "table_surname = pd.DataFrame(full[\"surname\"].value_counts())\n",
    "table_surname.rename(columns={'surname':'Surname_Members'}, inplace=True)\n",
    "\n",
    "table_surname['Surname_perishing_women'] = full.surname[(full.female_adult == 1.0) \n",
    "                                    & (full.Survived == 0.0) \n",
    "                                    & ((full.Parch > 0) | (full.SibSp > 0))].value_counts()\n",
    "table_surname['Surname_perishing_women'] = table_surname['Surname_perishing_women'].fillna(0)\n",
    "table_surname['Surname_perishing_women'][table_surname['Surname_perishing_women'] > 0] = 1.0 \n",
    "\n",
    "table_surname['Surname_surviving_men'] = full.surname[(full.male_adult == 1.0) \n",
    "                                    & (full.Survived == 1.0) \n",
    "                                    & ((full.Parch > 0) | (full.SibSp > 0))].value_counts()\n",
    "table_surname['Surname_surviving_men'] = table_surname['Surname_surviving_men'].fillna(0)\n",
    "table_surname['Surname_surviving_men'][table_surname['Surname_surviving_men'] > 0] = 1.0 \n",
    "\n",
    "table_surname[\"Surname_Id\"]= pd.Categorical.from_array(table_surname.index).codes\n",
    "# compress under 3 members into one code.\n",
    "table_surname[\"Surname_Id\"][table_surname[\"Surname_Members\"] < 3 ] = -1\n",
    "\n",
    "table_surname[\"Surname_Members\"] = pd.cut(table_surname[\"Surname_Members\"], bins=[0,1,4,20], labels=[0,1,2])\n",
    "\n",
    "full = pd.merge(full, table_surname, left_on=\"surname\",right_index=True,how='left', sort=False)\n",
    "\n",
    "### AGE PROCESSING --------------------------------------------------------------------------\n",
    "classers = ['Fare','Parch','Pclass','SibSp','TitleCat', \n",
    "'CabinCat','female','male', 'Embarked', 'FamilySize', 'NameLength','Ticket_Members','Ticket_Id']\n",
    "etr = ExtraTreesRegressor(n_estimators=200)\n",
    "X_train = full[classers][full['Age'].notnull()]\n",
    "Y_train = full['Age'][full['Age'].notnull()]\n",
    "X_test = full[classers][full['Age'].isnull()]\n",
    "etr.fit(X_train,np.ravel(Y_train))\n",
    "age_preds = etr.predict(X_test)\n",
    "full['Age'][full['Age'].isnull()] = age_preds\n",
    "\n",
    "train = full[0:891].copy()\n",
    "test = full[891:].copy()\n",
    "\n",
    "train = train.drop(['Cabin','Name','Sex','surname','Title','person','Ticket','Survived'],axis=1)\n",
    "test = test.drop(['Cabin','Name','Sex','surname','Title','person','Ticket','Survived'],axis=1)\n",
    "\n",
    "### TRAIN THE DATA --------------------------------------------------------------------------\n",
    "\n",
    "rfc = RandomForestClassifier(n_estimators=3000, \n",
    "                             min_samples_split=4)\n",
    "rfc.fit(train, target)\n",
    "predictions = rfc.predict(test)"
   ]
  },
  {
   "cell_type": "code",
   "execution_count": 59,
   "metadata": {},
   "outputs": [
    {
     "name": "stdout",
     "output_type": "stream",
     "text": [
      "train cv score - 0.888888888889\n",
      "best params are{'n_estimators': 2000}\n"
     ]
    },
    {
     "data": {
      "text/plain": [
       "GridSearchCV(cv=5, error_score='raise',\n",
       "       estimator=RandomForestClassifier(bootstrap=True, class_weight=None, criterion='gini',\n",
       "            max_depth=None, max_features='auto', max_leaf_nodes=None,\n",
       "            min_impurity_split=1e-07, min_samples_leaf=1,\n",
       "            min_samples_split=2, min_weight_fraction_leaf=0.0,\n",
       "            n_estimators=10, n_jobs=1, oob_score=False, random_state=0,\n",
       "            verbose=0, warm_start=False),\n",
       "       fit_params={}, iid=True, n_jobs=1,\n",
       "       param_grid={'n_estimators': [2000, 2500, 3000]},\n",
       "       pre_dispatch='2*n_jobs', refit=True, return_train_score=True,\n",
       "       scoring=None, verbose=0)"
      ]
     },
     "execution_count": 59,
     "metadata": {},
     "output_type": "execute_result"
    }
   ],
   "source": [
    "rf_clf_grid(train, test, params={'n_estimators':[2000,2500,3000]})"
   ]
  },
  {
   "cell_type": "code",
   "execution_count": 556,
   "metadata": {
    "collapsed": true
   },
   "outputs": [],
   "source": [
    "pd.DataFrame(predictions).to_csv('rdf_2.csv')\n",
    "pd.DataFrame(rfc.predict(train)).to_csv('rdf_2_train.csv')"
   ]
  },
  {
   "cell_type": "markdown",
   "metadata": {},
   "source": [
    "## Summary\n",
    "\n",
    "### RandomForest\n",
    "\n",
    "- Best cv train score is **0.888888888889**\n",
    "- Data source: new feature engineering idea (see above)\n",
    "- params = {'min_samples_split': 7, 'n_estimators': 50}\n",
    "\n",
    "### SVM\n",
    "\n",
    "- Best cv train score: **0.822671156004**\n",
    "- Data source: datasets[0], datasets[1] (Data from dfdf.csv, drop ['Age'], ['Age1'])\n",
    "- params =  {'C': 1, 'gamma': 0.0001}\n",
    "\n",
    "### KNN\n",
    "\n",
    "- Best cv train score: **0.803591470258**\n",
    "- Data source: datasets[0], datasets[1] (Data from dfdf.csv, drop ['Age'], ['Age1'])\n",
    "- params = {'n_neighbors': 3}\n",
    "\n",
    "### Decision Tree\n",
    "\n",
    "- Best cv train score: **0.798039426382**\n",
    "- Data Source: kaggle[0], kaggle[1] (Data from Kaggle Kernel)\n",
    "- params = max_features:'sqrt'\n",
    "\n",
    "### Logistic Regression\n",
    "\n",
    "- Best cv train score: **0.827160493827**\n",
    "- Data source: train_data_new, test_data_new (Data from dfdf.csv after SelectFromModel method)\n",
    "- params = {'C': 10, 'penalty': 'l2'}\n",
    "\n",
    "\n",
    "\n"
   ]
  },
  {
   "cell_type": "code",
   "execution_count": null,
   "metadata": {
    "collapsed": true
   },
   "outputs": [],
   "source": []
  }
 ],
 "metadata": {
  "kernelspec": {
   "display_name": "Python 3",
   "language": "python",
   "name": "python3"
  },
  "language_info": {
   "codemirror_mode": {
    "name": "ipython",
    "version": 3
   },
   "file_extension": ".py",
   "mimetype": "text/x-python",
   "name": "python",
   "nbconvert_exporter": "python",
   "pygments_lexer": "ipython3",
   "version": "3.6.1"
  }
 },
 "nbformat": 4,
 "nbformat_minor": 2
}
