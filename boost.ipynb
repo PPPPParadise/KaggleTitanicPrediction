{
 "cells": [
  {
   "cell_type": "markdown",
   "metadata": {},
   "source": [
    "Import data and make it to 4 parts\n",
    "-----------------"
   ]
  },
  {
   "cell_type": "code",
   "execution_count": 1,
   "metadata": {
    "collapsed": true
   },
   "outputs": [
    {
     "name": "stderr",
     "output_type": "stream",
     "text": [
      "C:\\Anaconda3\\lib\\site-packages\\sklearn\\cross_validation.py:41: DeprecationWarning: This module was deprecated in version 0.18 in favor of the model_selection module into which all the refactored classes and functions are moved. Also note that the interface of the new CV iterators are different from that of this module. This module will be removed in 0.20.\n  \"This module will be removed in 0.20.\", DeprecationWarning)\nC:\\Anaconda3\\lib\\site-packages\\sklearn\\grid_search.py:42: DeprecationWarning: This module was deprecated in version 0.18 in favor of the model_selection module into which all the refactored classes and functions are moved. This module will be removed in 0.20.\n  DeprecationWarning)\n"
     ]
    }
   ],
   "source": [
    "import matplotlib.pyplot as plt\n",
    "from sklearn.model_selection import cross_val_score\n",
    "#Import libraries:\n",
    "import pandas as pd\n",
    "import numpy as np\n",
    "import xgboost as xgb\n",
    "from xgboost.sklearn import XGBClassifier\n",
    "from sklearn import cross_validation, metrics   #Additional     scklearn functions\n",
    "from sklearn.grid_search import GridSearchCV   #Perforing grid search\n",
    "import os \n",
    "from predict import predict\n",
    "os.chdir(r'C:\\Users\\txy9r\\Desktop\\ML\\titanic')"
   ]
  },
  {
   "cell_type": "code",
   "execution_count": 2,
   "metadata": {},
   "outputs": [],
   "source": [
    "data = pd.read_csv('dfdf.csv')\n",
    "test_data = data[data['Survived'].isnull()]\n",
    "train_data = data[data['Survived'].notnull()]\n",
    "X_train = train_data.drop('Survived',axis = 1)\n",
    "X_test = test_data.drop('Survived',axis = 1)\n",
    "y_train = train_data['Survived']"
   ]
  },
  {
   "cell_type": "markdown",
   "metadata": {},
   "source": [
    "grid search to find the best parameters\n",
    "---------------"
   ]
  },
  {
   "cell_type": "code",
   "execution_count": 95,
   "metadata": {
    "collapsed": true
   },
   "outputs": [
    {
     "data": {
      "text/plain": [
       "([mean: 0.88086, std: 0.02976, params: {'max_depth': 3, 'min_child_weight': 1},\n  mean: 0.88306, std: 0.02996, params: {'max_depth': 3, 'min_child_weight': 3},\n  mean: 0.87799, std: 0.03019, params: {'max_depth': 3, 'min_child_weight': 5},\n  mean: 0.87898, std: 0.02876, params: {'max_depth': 5, 'min_child_weight': 1},\n  mean: 0.88385, std: 0.02844, params: {'max_depth': 5, 'min_child_weight': 3},\n  mean: 0.88286, std: 0.03093, params: {'max_depth': 5, 'min_child_weight': 5},\n  mean: 0.87637, std: 0.02827, params: {'max_depth': 7, 'min_child_weight': 1},\n  mean: 0.87858, std: 0.03064, params: {'max_depth': 7, 'min_child_weight': 3},\n  mean: 0.88173, std: 0.02984, params: {'max_depth': 7, 'min_child_weight': 5},\n  mean: 0.87641, std: 0.02804, params: {'max_depth': 9, 'min_child_weight': 1},\n  mean: 0.88440, std: 0.02980, params: {'max_depth': 9, 'min_child_weight': 3},\n  mean: 0.88312, std: 0.02841, params: {'max_depth': 9, 'min_child_weight': 5}],\n {'max_depth': 9, 'min_child_weight': 3},\n 0.8844008860751394)"
      ]
     },
     "execution_count": 95,
     "metadata": {},
     "output_type": "execute_result"
    }
   ],
   "source": [
    "param_test1 = {\n",
    " 'max_depth':np.array(range(3,10,2)),\n",
    " 'min_child_weight':np.array(range(1,6,2))\n",
    "}\n",
    "gsearch1 = GridSearchCV(estimator = XGBClassifier(learning_rate =0.1, n_estimators=140, max_depth=5,\\\n",
    "                                                  min_child_weight=1, gamma=0, subsample=0.8, colsample_bytree=0.8,\\\n",
    "                                                  objective= 'binary:logistic', nthread=4,     scale_pos_weight=1, seed=27), \\\n",
    "                        param_grid = param_test1,     scoring='roc_auc',n_jobs=4,iid=False, cv=5)\n",
    "gsearch1.fit(X_train_short,y_train)\n",
    "gsearch1.grid_scores_, gsearch1.best_params_,     gsearch1.best_score_\n"
   ]
  },
  {
   "cell_type": "code",
   "execution_count": 96,
   "metadata": {},
   "outputs": [
    {
     "data": {
      "text/plain": [
       "([mean: 0.87625, std: 0.02779, params: {'max_depth': 9, 'min_child_weight': 2},\n  mean: 0.87718, std: 0.03101, params: {'max_depth': 9, 'min_child_weight': 3},\n  mean: 0.88082, std: 0.02945, params: {'max_depth': 9, 'min_child_weight': 4},\n  mean: 0.87876, std: 0.02953, params: {'max_depth': 11, 'min_child_weight': 2},\n  mean: 0.87887, std: 0.03276, params: {'max_depth': 11, 'min_child_weight': 3},\n  mean: 0.87944, std: 0.02932, params: {'max_depth': 11, 'min_child_weight': 4},\n  mean: 0.87707, std: 0.02908, params: {'max_depth': 13, 'min_child_weight': 2},\n  mean: 0.87903, std: 0.03253, params: {'max_depth': 13, 'min_child_weight': 3},\n  mean: 0.87944, std: 0.02932, params: {'max_depth': 13, 'min_child_weight': 4}],\n {'max_depth': 9, 'min_child_weight': 4},\n 0.8808156999972269)"
      ]
     },
     "execution_count": 96,
     "metadata": {},
     "output_type": "execute_result"
    }
   ],
   "source": [
    "param_test2 = {\n",
    " 'max_depth':np.array([9,11,13]),\n",
    " 'min_child_weight':np.array([2,3,4])\n",
    "}\n",
    "gsearch2 = GridSearchCV(estimator = XGBClassifier(learning_rate =0.1, n_estimators=140, max_depth=5,\\\n",
    "                                                  min_child_weight=2, gamma=0, subsample=0.8, colsample_bytree=0.8,\\\n",
    "                                                  objective= 'binary:logistic', nthread=4,     scale_pos_weight=1, seed=27), \\\n",
    "                        param_grid = param_test2,     scoring='roc_auc',n_jobs=-1,iid=False, cv=5)\n",
    "gsearch2.fit(X_train,y_train)\n",
    "gsearch2.grid_scores_, gsearch2.best_params_,     gsearch2.best_score_\n"
   ]
  },
  {
   "cell_type": "code",
   "execution_count": 17,
   "metadata": {
    "collapsed": true
   },
   "outputs": [
    {
     "data": {
      "text/plain": [
       "([mean: 0.88220, std: 0.02819, params: {'min_child_weight': 6},\n  mean: 0.87841, std: 0.02967, params: {'min_child_weight': 8},\n  mean: 0.88024, std: 0.02856, params: {'min_child_weight': 10},\n  mean: 0.87882, std: 0.02972, params: {'min_child_weight': 12},\n  mean: 0.87921, std: 0.02953, params: {'min_child_weight': 14},\n  mean: 0.87670, std: 0.02887, params: {'min_child_weight': 16}],\n {'min_child_weight': 6},\n 0.8821992431885907)"
      ]
     },
     "execution_count": 17,
     "metadata": {},
     "output_type": "execute_result"
    }
   ],
   "source": [
    "\n",
    "param_test2b = {\n",
    "'max_depth':np.array([2,3,4])\n",
    "}\n",
    "gsearch2b = GridSearchCV(estimator = XGBClassifier(learning_rate =0.1, n_estimators=140, max_depth=4,\\\n",
    "                                                  min_child_weight=2, gamma=0, subsample=0.8, colsample_bytree=0.8,\\\n",
    "                                                  objective= 'binary:logistic', nthread=4,     scale_pos_weight=1, seed=27), \\\n",
    "                        param_grid = param_test2b,     scoring='roc_auc',n_jobs=-1,iid=False, cv=5)\n",
    "gsearch2b.fit(X_train,y_train)\n",
    "gsearch2b.grid_scores_, gsearch2b.best_params_,     gsearch2b.best_score_\n"
   ]
  },
  {
   "cell_type": "code",
   "execution_count": 108,
   "metadata": {
    "collapsed": true
   },
   "outputs": [
    {
     "data": {
      "text/plain": [
       "([mean: 0.50000, std: 0.00000, params: {'scale_pos_weight': 0.01},\n  mean: 0.87908, std: 0.03256, params: {'scale_pos_weight': 0.5},\n  mean: 0.88572, std: 0.03224, params: {'scale_pos_weight': 1},\n  mean: 0.88243, std: 0.02594, params: {'scale_pos_weight': 1.5},\n  mean: 0.87788, std: 0.02787, params: {'scale_pos_weight': 2}],\n {'scale_pos_weight': 1},\n 0.8857193210170168)"
      ]
     },
     "execution_count": 108,
     "metadata": {},
     "output_type": "execute_result"
    }
   ],
   "source": [
    "# reg_alpha=1e-05, reg_lambda = 0.5\n",
    "param_test3 = { 'scale_pos_weight':[1e-2,0.5,1,1.5,2]}\n",
    "gsearch3 = GridSearchCV(estimator = XGBClassifier(learning_rate =0.1,reg_alpha=0.1,reg_lambda = 1,\\\n",
    "                                                  n_estimators=160, max_depth=9,\\\n",
    "                                                  min_child_weight=4, gamma=0, subsample=0.75, colsample_bytree=0.85,\\\n",
    "                                                  objective= 'binary:logistic', nthread=4,     scale_pos_weight=1, seed=27), \\\n",
    "                        param_grid = param_test3,     scoring='roc_auc',n_jobs=-1,iid=False, cv=5)\n",
    "gsearch3.fit(X_train,y_train)\n",
    "gsearch3.grid_scores_, gsearch3.best_params_,     gsearch3.best_score_\n"
   ]
  },
  {
   "cell_type": "code",
   "execution_count": 3,
   "metadata": {},
   "outputs": [],
   "source": [
    "clf1 = XGBClassifier(reg_alpha=1e-05, reg_lambda = 0.5,learning_rate =0.1, n_estimators=120, max_depth=4,\\\n",
    "                                                  min_child_weight=6, gamma=0, subsample=0.8, colsample_bytree=0.8,\\\n",
    "                                                  objective= 'binary:logistic', nthread=4,     scale_pos_weight=1, seed=27)\n",
    "\n",
    "xgb2 = XGBClassifier(\n",
    " learning_rate =0.1,\n",
    " n_estimators=1000,\n",
    " max_depth=5,\n",
    " min_child_weight=1,\n",
    " gamma=0,\n",
    " subsample=0.8,\n",
    " colsample_bytree=0.8,\n",
    " objective= 'binary:logistic',\n",
    " nthread=4,\n",
    " scale_pos_weight=1,\n",
    " seed=27)"
   ]
  },
  {
   "cell_type": "markdown",
   "metadata": {},
   "source": [
    "The new parameter make a better predict\n",
    "----------------------------"
   ]
  },
  {
   "cell_type": "code",
   "execution_count": 5,
   "metadata": {},
   "outputs": [
    {
     "name": "stdout",
     "output_type": "stream",
     "text": [
      "0.828282828283\n"
     ]
    },
    {
     "name": "stdout",
     "output_type": "stream",
     "text": [
      "0.811447811448\n"
     ]
    }
   ],
   "source": [
    "from sklearn.model_selection import cross_val_score\n",
    "print(cross_val_score(clf1,X_train,y_train,cv=3).mean())\n",
    "print(cross_val_score(xgb2,X_train,y_train,cv=3).mean())"
   ]
  },
  {
   "cell_type": "code",
   "execution_count": 18,
   "metadata": {},
   "outputs": [
    {
     "data": {
      "text/plain": [
       "0.034659822"
      ]
     },
     "execution_count": 18,
     "metadata": {},
     "output_type": "execute_result"
    }
   ],
   "source": [
    "clf1.fit(X_train,y_train)\n",
    "im = clf1.feature_importances_\n",
    "im.max()"
   ]
  },
  {
   "cell_type": "code",
   "execution_count": 17,
   "metadata": {
    "collapsed": false
   },
   "outputs": [
    {
     "data": {
      "text/plain": [
       "array([ 0.01155327,  0.01155327,  0.01155327,  0.01283697,  0.01283697,\n        0.01412067,  0.01925546,  0.01412067,  0.01797176,  0.01412067,\n        0.01797176,  0.01412067,  0.01925546,  0.01668806,  0.01412067,\n        0.01283697,  0.01412067,  0.01540437,  0.01412067,  0.03465982], dtype=float32)"
      ]
     },
     "execution_count": 17,
     "metadata": {},
     "output_type": "execute_result"
    }
   ],
   "source": [
    "a = np.argpartition(im,-20)[-20:]\n",
    "im[a]\n",
    "# namelist = np.array(X_all.columns.tolist())\n",
    "# namelist[a]"
   ]
  },
  {
   "cell_type": "code",
   "execution_count": 14,
   "metadata": {},
   "outputs": [],
   "source": [
    "im==0\n",
    "im.shape\n",
    "X_all = data.drop('Survived',axis=1)"
   ]
  },
  {
   "cell_type": "code",
   "execution_count": 1,
   "metadata": {},
   "outputs": [
    {
     "ename": "NameError",
     "evalue": "name 'np' is not defined",
     "traceback": [
      "\u001b[1;31m---------------------------------------------------------------------------\u001b[0m",
      "\u001b[1;31mNameError\u001b[0m                                 Traceback (most recent call last)",
      "\u001b[1;32m<ipython-input-1-0df45fa3f68e>\u001b[0m in \u001b[0;36m<module>\u001b[1;34m()\u001b[0m\n\u001b[1;32m----> 1\u001b[1;33m \u001b[0mnamelist\u001b[0m \u001b[1;33m=\u001b[0m \u001b[0mnp\u001b[0m\u001b[1;33m.\u001b[0m\u001b[0marray\u001b[0m\u001b[1;33m(\u001b[0m\u001b[0mX_all\u001b[0m\u001b[1;33m.\u001b[0m\u001b[0mcolumns\u001b[0m\u001b[1;33m.\u001b[0m\u001b[0mtolist\u001b[0m\u001b[1;33m(\u001b[0m\u001b[1;33m)\u001b[0m\u001b[1;33m)\u001b[0m\u001b[1;33m\u001b[0m\u001b[0m\n\u001b[0m\u001b[0;32m      2\u001b[0m \u001b[1;33m\u001b[0m\u001b[0m\n",
      "\u001b[1;31mNameError\u001b[0m: name 'np' is not defined"
     ],
     "output_type": "error"
    }
   ],
   "source": [
    "namelist = np.array(X_all.columns.tolist())\n",
    "\n"
   ]
  },
  {
   "cell_type": "code",
   "execution_count": 81,
   "metadata": {},
   "outputs": [],
   "source": [
    "drops = list(namelist[im==0])"
   ]
  },
  {
   "cell_type": "code",
   "execution_count": 84,
   "metadata": {},
   "outputs": [],
   "source": [
    "X_short = X_all.drop(drops,axis=1)"
   ]
  },
  {
   "cell_type": "code",
   "execution_count": 90,
   "metadata": {},
   "outputs": [],
   "source": [
    "X_train_short = X_short.iloc[:y_train.shape[0],:]\n",
    "X_test_short = X_short.iloc[y_train.shape[0] : ,:]"
   ]
  },
  {
   "cell_type": "code",
   "execution_count": 20,
   "metadata": {},
   "outputs": [],
   "source": [
    "clf1 = XGBClassifier(reg_alpha=1e-05, reg_lambda = 0.5,learning_rate =0.1, n_estimators=120, max_depth=4,\\\n",
    "                                                  min_child_weight=6, gamma=0, subsample=0.8, colsample_bytree=0.8,\\\n",
    "                                                  objective= 'binary:logistic', nthread=4,     scale_pos_weight=1, seed=27)\n",
    "\n",
    "clf2 = XGBClassifier(learning_rate =0.1,reg_alpha=0.1,reg_lambda = 1,\\\n",
    "                                                  n_estimators=160, max_depth=9,\\\n",
    "                                                  min_child_weight=4, gamma=0, subsample=0.75, colsample_bytree=0.85,\\\n",
    "                                                  objective= 'binary:logistic', nthread=4,     scale_pos_weight=1, seed=27)"
   ]
  },
  {
   "cell_type": "code",
   "execution_count": 110,
   "metadata": {},
   "outputs": [
    {
     "name": "stdout",
     "output_type": "stream",
     "text": [
      "0.83164983165\n"
     ]
    },
    {
     "name": "stdout",
     "output_type": "stream",
     "text": [
      "0.827160493827\n"
     ]
    }
   ],
   "source": [
    "from sklearn.model_selection import cross_val_score\n",
    "print(cross_val_score(clf1,X_train_short,y_train,cv=3).mean())\n",
    "print(cross_val_score(clf2,X_train_short,y_train,cv=3).mean())"
   ]
  },
  {
   "cell_type": "code",
   "execution_count": 144,
   "metadata": {},
   "outputs": [],
   "source": [
    "clf3.fit(X_train_short,y_train)\n",
    "out = clf3.predict(X_test_short)\n",
    "pd.DataFrame(out).to_csv('rf1.csv')"
   ]
  },
  {
   "cell_type": "code",
   "execution_count": 115,
   "metadata": {},
   "outputs": [],
   "source": [
    "from sklearn.ensemble import RandomForestClassifier"
   ]
  },
  {
   "cell_type": "code",
   "execution_count": 143,
   "metadata": {},
   "outputs": [
    {
     "name": "stdout",
     "output_type": "stream",
     "text": [
      "RandomForestClassifier(bootstrap=True, class_weight=None, criterion='gini',\n            max_depth=5, max_features='auto', max_leaf_nodes=None,\n            min_impurity_decrease=0.0, min_impurity_split=None,\n            min_samples_leaf=1, min_samples_split=2,\n            min_weight_fraction_leaf=0.0, n_estimators=200, n_jobs=-1,\n            oob_score=False, random_state=None, verbose=0,\n            warm_start=False)\n"
     ]
    },
    {
     "name": "stdout",
     "output_type": "stream",
     "text": [
      "0.832772166105\n"
     ]
    }
   ],
   "source": [
    "clf3 =  RandomForestClassifier(bootstrap=True, class_weight=None, criterion='gini',\n",
    "            max_depth=5, max_features='auto', max_leaf_nodes=None,\n",
    "            min_impurity_decrease=0.0, min_impurity_split=None,\n",
    "            min_samples_leaf=1, min_samples_split=2,\n",
    "            min_weight_fraction_leaf=0.0, n_estimators=200, n_jobs=-1,\n",
    "            oob_score=False, random_state=None, verbose=0,\n",
    "            warm_start=False)\n",
    "print(clf3)\n",
    "print(cross_val_score(clf3,X_train_short,y_train,cv=3).mean())"
   ]
  },
  {
   "cell_type": "code",
   "execution_count": 141,
   "metadata": {
    "collapsed": true
   },
   "outputs": [
    {
     "data": {
      "text/plain": [
       "([mean: 0.88414, std: 0.02557, params: {'random_state': None},\n  mean: 0.88087, std: 0.02634, params: {'random_state': 0},\n  mean: 0.88163, std: 0.02803, params: {'random_state': 1},\n  mean: 0.88291, std: 0.02463, params: {'random_state': 2},\n  mean: 0.88033, std: 0.02968, params: {'random_state': 3},\n  mean: 0.87833, std: 0.02937, params: {'random_state': 5},\n  mean: 0.88082, std: 0.02709, params: {'random_state': 10},\n  mean: 0.88153, std: 0.02693, params: {'random_state': 50},\n  mean: 0.88329, std: 0.02588, params: {'random_state': 100}],\n {'random_state': None},\n 0.8841412778622709)"
      ]
     },
     "execution_count": 141,
     "metadata": {},
     "output_type": "execute_result"
    }
   ],
   "source": [
    "# reg_alpha=1e-05, reg_lambda = 0.5\n",
    "param_test3 = { 'random_state':[None,0,1,2,3,5,10,50,100]}\n",
    "gsearch3 = GridSearchCV(estimator = RandomForestClassifier(bootstrap=True, class_weight=None, criterion='gini',\n",
    "            max_depth=5, max_features='auto', max_leaf_nodes=None,\n",
    "            min_impurity_decrease=0.0, min_impurity_split=None,\n",
    "            min_samples_leaf=1, min_samples_split=2,\n",
    "            min_weight_fraction_leaf=0.0, n_estimators=200, n_jobs=-1,\n",
    "            oob_score=False, random_state=None, verbose=0,\n",
    "            warm_start=False), \\\n",
    "                        param_grid = param_test3,  scoring='roc_auc',n_jobs=-1,iid=False, cv=5)\n",
    "gsearch3.fit(X_train,y_train)\n",
    "gsearch3.grid_scores_, gsearch3.best_params_,     gsearch3.best_score_\n"
   ]
  },
  {
   "cell_type": "code",
   "execution_count": 154,
   "metadata": {},
   "outputs": [],
   "source": [
    "drops2 = clf3.feature_importances_ < 5e-4\n",
    "namelist2 = np.array(X_short.columns.tolist())"
   ]
  },
  {
   "cell_type": "code",
   "execution_count": 157,
   "metadata": {},
   "outputs": [],
   "source": [
    "X_short_er = X_short.drop(namelist2[drops2],axis=1)"
   ]
  },
  {
   "cell_type": "code",
   "execution_count": 159,
   "metadata": {},
   "outputs": [],
   "source": [
    "X_train_shorter = X_short_er.iloc[:y_train.shape[0],:]\n",
    "X_test_shorter = X_short_er.iloc[y_train.shape[0] : ,:]"
   ]
  },
  {
   "cell_type": "code",
   "execution_count": 167,
   "metadata": {
    "collapsed": true
   },
   "outputs": [
    {
     "data": {
      "text/plain": [
       "([mean: 0.88573, std: 0.02813, params: {'n_estimators': 10},\n  mean: 0.88475, std: 0.02746, params: {'n_estimators': 100},\n  mean: 0.88245, std: 0.02403, params: {'n_estimators': 500}],\n {'n_estimators': 10},\n 0.8857259619589215)"
      ]
     },
     "execution_count": 167,
     "metadata": {},
     "output_type": "execute_result"
    }
   ],
   "source": [
    "# reg_alpha=1e-05, reg_lambda = 0.5\n",
    "param_test3 = { 'n_estimators':[10,100,500]}\n",
    "gsearch3 = GridSearchCV(estimator = RandomForestClassifier(bootstrap=True, class_weight=None, criterion='gini',\n",
    "            max_depth=4, max_features='auto', max_leaf_nodes=None,\n",
    "            min_impurity_decrease=0.0, min_impurity_split=None,\n",
    "            min_samples_leaf=1, min_samples_split=2,\n",
    "            min_weight_fraction_leaf=0.0, n_estimators=10, n_jobs=-1,\n",
    "            oob_score=False, random_state=5, verbose=0,\n",
    "            warm_start=False), \\\n",
    "                        param_grid = param_test3,  scoring='roc_auc',n_jobs=-1,iid=False, cv=5)\n",
    "gsearch3.fit(X_train_shorter,y_train)\n",
    "gsearch3.grid_scores_, gsearch3.best_params_,     gsearch3.best_score_\n"
   ]
  },
  {
   "cell_type": "code",
   "execution_count": 162,
   "metadata": {},
   "outputs": [],
   "source": [
    "rf2 = RandomForestClassifier(bootstrap=True, class_weight=None, criterion='gini',\n",
    "            max_depth=3, max_features='auto', max_leaf_nodes=None,\n",
    "            min_impurity_decrease=0.0, min_impurity_split=None,\n",
    "            min_samples_leaf=1, min_samples_split=2,\n",
    "            min_weight_fraction_leaf=0.0, n_estimators=150, n_jobs=-1,\n",
    "            oob_score=False, random_state=None, verbose=0,\n",
    "            warm_start=False)\n"
   ]
  },
  {
   "cell_type": "code",
   "execution_count": 169,
   "metadata": {},
   "outputs": [],
   "source": [
    "rf3 = RandomForestClassifier(bootstrap=True, class_weight=None, criterion='gini',\n",
    "            max_depth=4, max_features='auto', max_leaf_nodes=None,\n",
    "            min_impurity_decrease=0.0, min_impurity_split=None,\n",
    "            min_samples_leaf=1, min_samples_split=2,\n",
    "            min_weight_fraction_leaf=0.0, n_estimators=10, n_jobs=-1,\n",
    "            oob_score=False, random_state=5, verbose=0,\n",
    "            warm_start=False)"
   ]
  },
  {
   "cell_type": "code",
   "execution_count": 171,
   "metadata": {},
   "outputs": [],
   "source": [
    "# print(cross_val_score(rf3,X_train_shorter,y_train,cv=3).mean())\n",
    "rf3.fit(X_train_shorter,y_train)\n",
    "out = rf3.predict(X_test_shorter)\n",
    "pd.DataFrame(out).to_csv('rf3.csv')"
   ]
  },
  {
   "cell_type": "code",
   "execution_count": 191,
   "metadata": {},
   "outputs": [
    {
     "name": "stdout",
     "output_type": "stream",
     "text": [
      "0.821548821549\n"
     ]
    }
   ],
   "source": [
    "from sklearn.neural_network import MLPClassifier\n",
    "dl1 = MLPClassifier(activation='relu', alpha=1e-05, batch_size='auto',\n",
    "       beta_1=0.9, beta_2=0.999, early_stopping=False,\n",
    "       epsilon=1e-08, hidden_layer_sizes=(100, 100), learning_rate='constant',\n",
    "       learning_rate_init=0.001, max_iter=400, momentum=0.9,\n",
    "       nesterovs_momentum=True, power_t=0.5, random_state=1, shuffle=True,\n",
    "       solver='lbfgs', tol=0.0001, validation_fraction=0.1, verbose=False,\n",
    "       warm_start=False)\n",
    "print(cross_val_score(clf3,X_train_short,y_train,cv=3).mean())\n",
    "# dl1.fit(X_train_shorter,y_train)\n",
    "# out = dl1.predict(X_test_shorter)\n",
    "# pd.DataFrame(out).to_csv('dl1.csv')"
   ]
  },
  {
   "cell_type": "code",
   "execution_count": 199,
   "metadata": {
    "collapsed": true
   },
   "outputs": [
    {
     "data": {
      "text/plain": [
       "([mean: 0.74589, std: 0.03350, params: {'hidden_layer_sizes': (100, 34)}],\n {'hidden_layer_sizes': (100, 34)},\n 0.7458856613300099)"
      ]
     },
     "execution_count": 199,
     "metadata": {},
     "output_type": "execute_result"
    }
   ],
   "source": [
    "# reg_alpha=1e-05, reg_lambda = 0.5\n",
    "param_test3 = { 'hidden_layer_sizes':[(100,34)]}\n",
    "gsearch3 = GridSearchCV(estimator = MLPClassifier(activation='relu', alpha=1e-05, batch_size='auto',\n",
    "       beta_1=0.9, beta_2=0.999, early_stopping=False,\n",
    "       epsilon=1e-08, hidden_layer_sizes=(100, 100), learning_rate='constant',\n",
    "       learning_rate_init=0.001, max_iter=400, momentum=0.9,\n",
    "       nesterovs_momentum=True, power_t=0.5, random_state=1, shuffle=True,\n",
    "       solver='lbfgs', tol=0.0001, validation_fraction=0.1, verbose=False,\n",
    "       warm_start=False), \\\n",
    "                        param_grid = param_test3,  scoring='roc_auc',n_jobs=-1,iid=False, cv=3)\n",
    "gsearch3.fit(X_train_shorter,y_train)\n",
    "gsearch3.grid_scores_, gsearch3.best_params_,     gsearch3.best_score_\n"
   ]
  }
 ],
 "metadata": {
  "kernelspec": {
   "display_name": "Python 2",
   "language": "python",
   "name": "python2"
  },
  "language_info": {
   "codemirror_mode": {
    "name": "ipython",
    "version": 2
   },
   "file_extension": ".py",
   "mimetype": "text/x-python",
   "name": "python",
   "nbconvert_exporter": "python",
   "pygments_lexer": "ipython2",
   "version": "2.7.6"
  }
 },
 "nbformat": 4,
 "nbformat_minor": 0
}
