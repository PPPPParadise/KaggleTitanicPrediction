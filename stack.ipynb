{
 "cells": [
  {
   "cell_type": "code",
   "execution_count": 3,
   "metadata": {
    "collapsed": true
   },
   "outputs": [
    {
     "name": "stderr",
     "output_type": "stream",
     "text": [
      "C:\\Anaconda3\\lib\\site-packages\\sklearn\\cross_validation.py:41: DeprecationWarning: This module was deprecated in version 0.18 in favor of the model_selection module into which all the refactored classes and functions are moved. Also note that the interface of the new CV iterators are different from that of this module. This module will be removed in 0.20.\n  \"This module will be removed in 0.20.\", DeprecationWarning)\nC:\\Anaconda3\\lib\\site-packages\\sklearn\\grid_search.py:42: DeprecationWarning: This module was deprecated in version 0.18 in favor of the model_selection module into which all the refactored classes and functions are moved. This module will be removed in 0.20.\n  DeprecationWarning)\n"
     ]
    }
   ],
   "source": [
    "import matplotlib.pyplot as plt\n",
    "from sklearn.model_selection import cross_val_score\n",
    "#Import libraries:\n",
    "import pandas as pd\n",
    "import numpy as np\n",
    "import xgboost as xgb\n",
    "from xgboost.sklearn import XGBClassifier\n",
    "from sklearn import cross_validation, metrics   #Additional     scklearn functions\n",
    "from sklearn.grid_search import GridSearchCV   #Perforing grid search\n",
    "import os \n",
    "os.chdir(r'C:\\Users\\txy9r\\Desktop\\ML\\titanic')"
   ]
  },
  {
   "cell_type": "code",
   "execution_count": 10,
   "metadata": {},
   "outputs": [],
   "source": [
    "data = pd.read_csv('dfdf.csv')\n",
    "test_data = data[data['Survived'].isnull()]\n",
    "train_data = data[data['Survived'].notnull()]\n",
    "X_train = train_data.drop('Survived',axis = 1)\n",
    "X_test = test_data.drop('Survived',axis = 1)\n",
    "y_train = train_data['Survived']\n",
    "cor = pd.read_csv('cheat.csv')\n",
    "y_cheat = cor['Survived']"
   ]
  },
  {
   "cell_type": "code",
   "execution_count": 11,
   "metadata": {},
   "outputs": [],
   "source": [
    "clf1 = XGBClassifier(reg_alpha=1e-05, reg_lambda = 0.5,learning_rate =0.1, n_estimators=120, max_depth=4,\\\n",
    "                                                  min_child_weight=6, gamma=0, subsample=0.8, colsample_bytree=0.8,\\\n",
    "                                                  objective= 'binary:logistic', nthread=4,     scale_pos_weight=1, seed=27)\n",
    "\n",
    "xgb2 = XGBClassifier(\n",
    " learning_rate =0.1,\n",
    " n_estimators=1000,\n",
    " max_depth=5,\n",
    " min_child_weight=1,\n",
    " gamma=0,\n",
    " subsample=0.8,\n",
    " colsample_bytree=0.8,\n",
    " objective= 'binary:logistic',\n",
    " nthread=4,\n",
    " scale_pos_weight=1,\n",
    " seed=27)"
   ]
  },
  {
   "cell_type": "code",
   "execution_count": 12,
   "metadata": {},
   "outputs": [
    {
     "name": "stdout",
     "output_type": "stream",
     "text": [
      "0.828282828283\n"
     ]
    },
    {
     "name": "stdout",
     "output_type": "stream",
     "text": [
      "0.811447811448\n"
     ]
    }
   ],
   "source": [
    "from sklearn.model_selection import cross_val_score\n",
    "print(cross_val_score(clf1,X_train,y_train,cv=3).mean())\n",
    "print(cross_val_score(xgb2,X_train,y_train,cv=3).mean())"
   ]
  },
  {
   "cell_type": "code",
   "execution_count": 13,
   "metadata": {},
   "outputs": [
    {
     "name": "stdout",
     "output_type": "stream",
     "text": [
      "0.767942583732\n"
     ]
    }
   ],
   "source": [
    "from sklearn.metrics import accuracy_score\n",
    "clf1.fit(X_train,y_train)\n",
    "y_pred = clf1.predict(X_test)\n",
    "print(accuracy_score(y_cheat,y_pred))"
   ]
  },
  {
   "cell_type": "markdown",
   "metadata": {},
   "source": [
    "Try to remove corr\n",
    "==================="
   ]
  },
  {
   "cell_type": "code",
   "execution_count": 131,
   "metadata": {},
   "outputs": [
    {
     "name": "stdout",
     "output_type": "stream",
     "text": [
      "\nDropping 113 highly correlated features\n"
     ]
    }
   ],
   "source": [
    "while True:\n",
    "    df_corr=data.drop(['Survived'],axis=1).corr(method='spearman')\n",
    "    mask=np.ones(df_corr.columns.size)-np.eye(df_corr.columns.size)\n",
    "    df_corr=df_corr*mask\n",
    "    drops=[]\n",
    "    for col in df_corr.columns.values:\n",
    "        if np.in1d([col],drops):\n",
    "            continue\n",
    "        corr=df_corr.index[abs(df_corr[col])>0.9].values\n",
    "        drops=np.union1d(drops,corr)\n",
    "    print(\"\\nDropping\",drops.shape[0],\"highly correlated features\")\n",
    "    data_nocorr=data.drop(drops,axis=1,inplace=False)\n",
    "    break\n"
   ]
  },
  {
   "cell_type": "code",
   "execution_count": 133,
   "metadata": {},
   "outputs": [
    {
     "name": "stderr",
     "output_type": "stream",
     "text": [
      "C:\\Anaconda3\\lib\\site-packages\\ipykernel_launcher.py:4: SettingWithCopyWarning: \nA value is trying to be set on a copy of a slice from a DataFrame\n\nSee the caveats in the documentation: http://pandas.pydata.org/pandas-docs/stable/indexing.html#indexing-view-versus-copy\n  after removing the cwd from sys.path.\nC:\\Anaconda3\\lib\\site-packages\\ipykernel_launcher.py:5: SettingWithCopyWarning: \nA value is trying to be set on a copy of a slice from a DataFrame\n\nSee the caveats in the documentation: http://pandas.pydata.org/pandas-docs/stable/indexing.html#indexing-view-versus-copy\n  \"\"\"\n"
     ]
    },
    {
     "name": "stderr",
     "output_type": "stream",
     "text": [
      "C:\\Anaconda3\\lib\\site-packages\\ipykernel_launcher.py:6: SettingWithCopyWarning: \nA value is trying to be set on a copy of a slice from a DataFrame\n\nSee the caveats in the documentation: http://pandas.pydata.org/pandas-docs/stable/indexing.html#indexing-view-versus-copy\n  \n"
     ]
    }
   ],
   "source": [
    "train_df=data_nocorr[data_nocorr['Survived'].notnull()]\n",
    "test_df=data_nocorr[data_nocorr['Survived'].isnull()]\n",
    "test_df.reset_index(inplace=True)\n",
    "test_df.drop('index',axis=1,inplace=True)\n",
    "test_df.drop('Survived',axis=1,inplace=True)\n",
    "train_df.drop('Survived',axis =1,inplace=True)\n",
    "\n"
   ]
  },
  {
   "cell_type": "code",
   "execution_count": 110,
   "metadata": {},
   "outputs": [
    {
     "name": "stdout",
     "output_type": "stream",
     "text": [
      "0.819304152637\n"
     ]
    },
    {
     "name": "stdout",
     "output_type": "stream",
     "text": [
      "0.809203142536\n"
     ]
    }
   ],
   "source": [
    "from sklearn.model_selection import cross_val_score\n",
    "print(cross_val_score(clf1,train_df,y_train,cv=3).mean())\n",
    "print(cross_val_score(xgb2,train_df,y_train,cv=3).mean())"
   ]
  },
  {
   "cell_type": "code",
   "execution_count": 135,
   "metadata": {},
   "outputs": [
    {
     "name": "stdout",
     "output_type": "stream",
     "text": [
      "0.748803827751\n"
     ]
    }
   ],
   "source": [
    "from sklearn.metrics import accuracy_score\n",
    "xgb2.fit(train_df,y_train)\n",
    "y_pred = xgb2.predict(test_df)\n",
    "print(accuracy_score(y_cheat,y_pred))\n"
   ]
  },
  {
   "cell_type": "code",
   "execution_count": 137,
   "metadata": {},
   "outputs": [],
   "source": [
    "from sklearn.ensemble import RandomForestClassifier\n",
    "rf3 = RandomForestClassifier(bootstrap=True, class_weight=None, criterion='gini',\n",
    "            max_depth=4, max_features='auto', max_leaf_nodes=None,\n",
    "            min_impurity_decrease=0.0, min_impurity_split=None,\n",
    "            min_samples_leaf=1, min_samples_split=2,\n",
    "            min_weight_fraction_leaf=0.0, n_estimators=10, n_jobs=-1,\n",
    "            oob_score=False, random_state=5, verbose=0,\n",
    "            warm_start=False)"
   ]
  },
  {
   "cell_type": "code",
   "execution_count": 139,
   "metadata": {
    "collapsed": true
   },
   "outputs": [
    {
     "name": "stdout",
     "output_type": "stream",
     "text": [
      "0.772727272727\n[ 0.          0.          0.          0.          0.          0.          0.\n  0.          0.          0.00112227  0.15382214  0.00080862  0.          0.\n  0.00988304  0.          0.          0.          0.          0.\n  0.00064632  0.          0.          0.          0.          0.00059543\n  0.00614748  0.          0.00387736  0.03704086  0.          0.\n  0.01253539  0.00328762  0.          0.          0.05452906  0.\n  0.00212238  0.00209229  0.00702707  0.01103759  0.          0.00153212\n  0.          0.          0.          0.          0.01372497  0.00947235\n  0.          0.          0.00429448  0.          0.          0.00876025\n  0.          0.          0.00588487  0.          0.          0.          0.\n  0.          0.          0.01411209  0.          0.          0.02868499\n  0.          0.00145351  0.00142605  0.          0.00249816  0.          0.\n  0.          0.00066693  0.00609633  0.          0.          0.          0.0013821\n  0.          0.00434597  0.          0.          0.00027421  0.\n  0.00619557  0.          0.00592581  0.          0.          0.          0.\n  0.          0.          0.          0.          0.          0.00846231\n  0.00205773  0.00222083  0.00093902  0.          0.          0.          0.\n  0.          0.          0.          0.          0.00400407  0.0010591   0.\n  0.00501291  0.          0.          0.          0.00298941  0.01917263\n  0.          0.          0.          0.          0.          0.03245528\n  0.00040072  0.00017698  0.          0.00138683  0.          0.          0.\n  0.          0.          0.00468518  0.          0.00134469  0.00083732\n  0.          0.00060789  0.00132924  0.00723427  0.00836733  0.11530137\n  0.00711596  0.          0.          0.          0.0022176   0.          0.\n  0.          0.00700546  0.          0.00042307  0.01018504  0.          0.\n  0.          0.          0.          0.          0.00530366  0.          0.\n  0.          0.          0.00223698  0.          0.0064582   0.          0.\n  0.          0.          0.00359316  0.          0.          0.          0.0050038\n  0.0019453   0.          0.01366918  0.01860687  0.00772955  0.03685287\n  0.          0.          0.          0.          0.00223418  0.00624809\n  0.          0.          0.          0.          0.          0.          0.\n  0.03641406  0.05130468  0.01473864  0.00471169  0.00133932  0.00203876\n  0.          0.          0.          0.0013645   0.          0.          0.\n  0.043284    0.00341751  0.          0.          0.00546581  0.00413011\n  0.00370342  0.02877296  0.          0.          0.00039021  0.\n  0.00363907  0.00051676  0.          0.          0.          0.\n  0.00178063  0.          0.          0.          0.          0.00374656\n  0.00491833  0.00414323  0.          0.          0.          0.        ]\n"
     ]
    }
   ],
   "source": [
    "rf3.fit(train_df,y_train)\n",
    "y_pred = rf3.predict(test_df)\n",
    "print(accuracy_score(y_cheat,y_pred))\n",
    "print(rf3.feature_importances_)"
   ]
  },
  {
   "cell_type": "code",
   "execution_count": 141,
   "metadata": {},
   "outputs": [],
   "source": [
    "rf3_im =  rf3.feature_importances_\n",
    "# a = np.argpartition(rf3_im,-20)[-20:]\n",
    "# rf3_im[a]\n",
    "\n",
    "# im.shape\n",
    "# X_all = data.drop('Survived',axis=1)\n",
    "namelist = np.array(train_df.columns.tolist())\n",
    "\n",
    "train_df_short =train_df.drop(namelist[rf3_im <=1e-5],axis=1)\n",
    "test_df_short =test_df.drop(namelist[rf3_im <=1e-5],axis=1)"
   ]
  },
  {
   "cell_type": "code",
   "execution_count": 142,
   "metadata": {},
   "outputs": [
    {
     "name": "stdout",
     "output_type": "stream",
     "text": [
      "0.782296650718\n0.874298540965\n"
     ]
    }
   ],
   "source": [
    "rf3.fit(train_df_short,y_train)\n",
    "y_pred = rf3.predict(test_df_short)\n",
    "print(accuracy_score(y_cheat,y_pred))\n",
    "print(accuracy_score(y_train,rf3.predict(train_df_short)))"
   ]
  },
  {
   "cell_type": "code",
   "execution_count": 76,
   "metadata": {},
   "outputs": [],
   "source": [
    "stack_train= pd.DataFrame([])\n",
    "stack_test = pd.DataFrame([])\n",
    "stack_train['df_0.782'] = rf3.predict(train_df_short)\n",
    "stack_test['df_0.782'] = rf3.predict(test_df_short)"
   ]
  },
  {
   "cell_type": "code",
   "execution_count": 78,
   "metadata": {
    "collapsed": true
   },
   "outputs": [
    {
     "name": "stdout",
     "output_type": "stream",
     "text": [
      "0.767942583732\n"
     ]
    }
   ],
   "source": [
    "clf1.fit(X_train,y_train)\n",
    "y_pre_xg = clf1.predict(X_test)\n",
    "print(accuracy_score(y_pre_xg,y_cheat))"
   ]
  },
  {
   "cell_type": "code",
   "execution_count": 82,
   "metadata": {},
   "outputs": [],
   "source": [
    "\n",
    "xg_im =  clf1.feature_importances_\n",
    "# a = np.argpartition(rf3_im,-20)[-20:]\n",
    "# rf3_im[a]\n",
    "\n",
    "# im.shape\n",
    "# X_all = data.drop('Survived',axis=1)\n",
    "namelist = np.array(X_train.columns.tolist())\n",
    "\n",
    "train_df_short_xg =X_train.drop(namelist[xg_im <=1e-5],axis=1)\n",
    "test_df_short_xg =X_test.drop(namelist[xg_im <=1e-5],axis=1)"
   ]
  },
  {
   "cell_type": "code",
   "execution_count": 86,
   "metadata": {
    "collapsed": true
   },
   "outputs": [],
   "source": [
    "clf2 = clf1\n",
    "clf2.fit(train_df_short_xg,y_train)\n",
    "y_pre_xg = clf2.predict(test_df_short_xg)\n",
    "# print(accuracy_score(test_df_short_xg,y_cheat))"
   ]
  },
  {
   "cell_type": "code",
   "execution_count": 88,
   "metadata": {},
   "outputs": [],
   "source": [
    "stack_train['xg_0.77'] = clf2.predict(train_df_short_xg)\n",
    "stack_test['xg_0.77'] = clf2.predict(test_df_short_xg)"
   ]
  },
  {
   "cell_type": "code",
   "execution_count": 94,
   "metadata": {},
   "outputs": [
    {
     "data": {
      "text/plain": [
       "(72, 2)"
      ]
     },
     "execution_count": 94,
     "metadata": {},
     "output_type": "execute_result"
    }
   ],
   "source": [
    "stack_train[stack_train.iloc[:,0]  != stack_train.iloc[:,1]].shape"
   ]
  },
  {
   "cell_type": "code",
   "execution_count": 144,
   "metadata": {},
   "outputs": [],
   "source": [
    "stack_train.to_csv('stack_train.csv')\n",
    "stack_test.to_csv('stack_test.csv')"
   ]
  }
 ],
 "metadata": {
  "kernelspec": {
   "display_name": "Python 2",
   "language": "python",
   "name": "python2"
  },
  "language_info": {
   "codemirror_mode": {
    "name": "ipython",
    "version": 2
   },
   "file_extension": ".py",
   "mimetype": "text/x-python",
   "name": "python",
   "nbconvert_exporter": "python",
   "pygments_lexer": "ipython2",
   "version": "2.7.6"
  }
 },
 "nbformat": 4,
 "nbformat_minor": 0
}
